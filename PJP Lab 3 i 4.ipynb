{
 "cells": [
  {
   "cell_type": "markdown",
   "metadata": {},
   "source": [
    "# Agenda\n",
    "1. Operacje na tablicach i funkcje matematyczne w Numpy\n",
    "2. Przetwarzanie danych w Pandas"
   ]
  },
  {
   "cell_type": "code",
   "execution_count": 38,
   "metadata": {},
   "outputs": [],
   "source": [
    "net_income=[100,150,300,400,40]\n",
    "investment=[80,40,30,20,100]"
   ]
  },
  {
   "cell_type": "markdown",
   "metadata": {},
   "source": [
    "### Zadanie\n",
    "Stworzenie funkcji obliczającej roi na podstawie list net_income oraz investment"
   ]
  },
  {
   "cell_type": "code",
   "execution_count": 30,
   "metadata": {},
   "outputs": [
    {
     "name": "stdout",
     "output_type": "stream",
     "text": [
      "[100, 150, 300, 400, 40] [80, 40, 30, 20, 100]\n"
     ]
    },
    {
     "data": {
      "text/plain": [
       "[125.0, 375.0, 1000.0, 2000.0, 40.0]"
      ]
     },
     "execution_count": 30,
     "metadata": {},
     "output_type": "execute_result"
    }
   ],
   "source": [
    "def calculate_ROI(v_net_income, v_investment): \n",
    "    ROI = []\n",
    "    for i in range(len(v_net_income)):\n",
    "        ROI.append((v_net_income[i]/v_investment[i])*100)\n",
    "    return ROI\n",
    "\n",
    "print(net_income, investment)\n",
    "calculate_ROI(net_income, investment)"
   ]
  },
  {
   "cell_type": "markdown",
   "metadata": {},
   "source": [
    "Dodanie do siebie dwóch list powoduje stworzenie listy z elementów obu list, a nie działanie matematyczne na poszczególnych indeksach."
   ]
  },
  {
   "cell_type": "code",
   "execution_count": 3,
   "metadata": {},
   "outputs": [
    {
     "data": {
      "text/plain": [
       "[100, 150, 300, 400, 40, 80, 40, 30, 20, 100]"
      ]
     },
     "execution_count": 3,
     "metadata": {},
     "output_type": "execute_result"
    }
   ],
   "source": [
    "net_income+investment"
   ]
  },
  {
   "cell_type": "markdown",
   "metadata": {},
   "source": [
    "# 1. Operacje na tablicach i funkcje matematyczne w Numpy\n",
    "\n",
    "Numpy jest biblioteką pozwalającą na szybkie operacje na tablicach i macierzach oraz zawiera szereg funkcji matematycznych.\n",
    "Podstawowym typem danych w Numpy jest ndarray, które jest wielowymiarową tablicą."
   ]
  },
  {
   "cell_type": "markdown",
   "metadata": {},
   "source": [
    "### Tworzenie tablicy\n",
    "Do tworzenia tablicy można wykorzystać szereg funkcji Numpy, m.in:\n",
    "* np.array - podanie wartości\n",
    "* np.arange - zakres liczbowy z odstępem między liczbami\n",
    "* np.linspace - zakres z liczbą liczb na który go dzielimy\n",
    "* np.random.random - uzupełnienie wartościami losowymi"
   ]
  },
  {
   "cell_type": "code",
   "execution_count": 31,
   "metadata": {},
   "outputs": [],
   "source": [
    "import numpy as np"
   ]
  },
  {
   "cell_type": "code",
   "execution_count": 32,
   "metadata": {},
   "outputs": [],
   "source": [
    "np_net_income=np.array(net_income)\n",
    "np_investment=np.array(investment)"
   ]
  },
  {
   "cell_type": "code",
   "execution_count": 33,
   "metadata": {},
   "outputs": [
    {
     "data": {
      "text/plain": [
       "(array([100, 150, 300, 400,  40]), array([ 80,  40,  30,  20, 100]))"
      ]
     },
     "execution_count": 33,
     "metadata": {},
     "output_type": "execute_result"
    }
   ],
   "source": [
    "np_net_income,np_investment"
   ]
  },
  {
   "cell_type": "code",
   "execution_count": 34,
   "metadata": {},
   "outputs": [
    {
     "data": {
      "text/plain": [
       "(numpy.ndarray, numpy.ndarray)"
      ]
     },
     "execution_count": 34,
     "metadata": {},
     "output_type": "execute_result"
    }
   ],
   "source": [
    "type(np_net_income),type(np_investment)"
   ]
  },
  {
   "cell_type": "markdown",
   "metadata": {},
   "source": [
    "### Zadanie\n",
    "Stwórzmy tablicę jednowymiarową z liczbami parzystymi od 0 do 10 korzystając z np.array, np.arange oraz np.linspace"
   ]
  },
  {
   "cell_type": "code",
   "execution_count": 36,
   "metadata": {},
   "outputs": [
    {
     "name": "stdout",
     "output_type": "stream",
     "text": [
      "[ 0  2  4  6  8 10]\n",
      "[ 0  2  4  6  8 10]\n",
      "[ 0.  2.  4.  6.  8. 10.]\n"
     ]
    }
   ],
   "source": [
    "print(np.array([x for x in range(11) if x%2==0]))\n",
    "print(np.arange(0,11,2))\n",
    "print(np.linspace(0,10,6))"
   ]
  },
  {
   "cell_type": "markdown",
   "metadata": {},
   "source": [
    "### Operacje na tablicach\n",
    "Na tablicach możemy wykonywać wszystkie podstawowe działania matematyczne, m.in: dodawanie, odejmowanie, mnożenie, dzielenie"
   ]
  },
  {
   "cell_type": "code",
   "execution_count": 37,
   "metadata": {},
   "outputs": [
    {
     "data": {
      "text/plain": [
       "array([180, 190, 330, 420, 140])"
      ]
     },
     "execution_count": 37,
     "metadata": {},
     "output_type": "execute_result"
    }
   ],
   "source": [
    "np_net_income+np_investment"
   ]
  },
  {
   "cell_type": "markdown",
   "metadata": {},
   "source": [
    "### Zadanie\n",
    "Zedytujmy funkcje obliczającą roi wykorzystując działania na tablicach w Numpy"
   ]
  },
  {
   "cell_type": "code",
   "execution_count": 43,
   "metadata": {},
   "outputs": [
    {
     "name": "stdout",
     "output_type": "stream",
     "text": [
      "[100, 150, 300, 400, 40] [80, 40, 30, 20, 100]\n",
      "[125.0, 375.0, 1000.0, 2000.0, 40.0]\n",
      "----------------------\n",
      "[100, 150, 300, 400, 40] [80, 40, 30, 20, 100]\n"
     ]
    }
   ],
   "source": [
    "\n",
    "def calculate_ROI(v_net_income, v_investment): \n",
    "    ROI = []\n",
    "    for i in range(len(v_net_income)):\n",
    "        ROI.append((v_net_income[i]/v_investment[i])*100)\n",
    "    return ROI\n",
    "\n",
    "print(net_income, investment)\n",
    "print(calculate_ROI(net_income, investment))\n",
    "\n",
    "def calculate_ROI_np(v_net_income, v_investment):\n",
    "    np_net_income = np.array(v_net_income)\n",
    "    np_investment = np.array(v_investment)\n",
    "\n",
    "    ROI = (np_net_income/np_investment)*100\n",
    "    return ROI \n",
    "    \n",
    "print(\"----------------------\")\n",
    "print(net_income, investment)\n",
    "roi = calculate_ROI_np(net_income, investment)\n"
   ]
  },
  {
   "cell_type": "code",
   "execution_count": 64,
   "metadata": {},
   "outputs": [],
   "source": [
    "roi = calculate_ROI_np(net_income, investment)"
   ]
  },
  {
   "cell_type": "code",
   "execution_count": 44,
   "metadata": {},
   "outputs": [
    {
     "data": {
      "text/plain": [
       "numpy.ndarray"
      ]
     },
     "execution_count": 44,
     "metadata": {},
     "output_type": "execute_result"
    }
   ],
   "source": [
    "type(roi)"
   ]
  },
  {
   "cell_type": "markdown",
   "metadata": {},
   "source": [
    "### Indeksowanie tablic\n",
    "Indeksowanie tablic odbywa się w analogiczny sposób jak w przypadku list. W tym przypadku pierwszy element również ma indeks 0. W przypadku tablicy jednowymiarowej pierwszy element otrzymany przez nazwa_tablicy[0]. W przypadku większej liczby wymiarów indeksujemy przez listę indeksów, np. nazwa_tablicy[0,1,2]. Do sprawdzenia liczby wymiarów używamy nazwa_tablicy.ndim, a do sprawdzenia rozmiaru nazwa_tablicy.shape.  "
   ]
  },
  {
   "cell_type": "code",
   "execution_count": 45,
   "metadata": {},
   "outputs": [
    {
     "data": {
      "text/plain": [
       "125.0"
      ]
     },
     "execution_count": 45,
     "metadata": {},
     "output_type": "execute_result"
    }
   ],
   "source": [
    "roi[0]"
   ]
  },
  {
   "cell_type": "code",
   "execution_count": 46,
   "metadata": {},
   "outputs": [],
   "source": [
    "tablica=np.array([net_income,investment])"
   ]
  },
  {
   "cell_type": "code",
   "execution_count": 47,
   "metadata": {},
   "outputs": [
    {
     "data": {
      "text/plain": [
       "2"
      ]
     },
     "execution_count": 47,
     "metadata": {},
     "output_type": "execute_result"
    }
   ],
   "source": [
    "tablica.ndim"
   ]
  },
  {
   "cell_type": "code",
   "execution_count": 48,
   "metadata": {},
   "outputs": [
    {
     "data": {
      "text/plain": [
       "(2, 5)"
      ]
     },
     "execution_count": 48,
     "metadata": {},
     "output_type": "execute_result"
    }
   ],
   "source": [
    "tablica.shape"
   ]
  },
  {
   "cell_type": "code",
   "execution_count": 50,
   "metadata": {},
   "outputs": [
    {
     "data": {
      "text/plain": [
       "array([ True,  True,  True,  True, False])"
      ]
     },
     "execution_count": 50,
     "metadata": {},
     "output_type": "execute_result"
    }
   ],
   "source": [
    "roi>100"
   ]
  },
  {
   "cell_type": "code",
   "execution_count": 52,
   "metadata": {},
   "outputs": [
    {
     "data": {
      "text/plain": [
       "array([ 125.,  375., 1000., 2000.])"
      ]
     },
     "execution_count": 52,
     "metadata": {},
     "output_type": "execute_result"
    }
   ],
   "source": [
    "roi[roi>100]"
   ]
  },
  {
   "cell_type": "markdown",
   "metadata": {},
   "source": [
    "Biblioteka Numpy zawiera możliwość szeregu obliczeń statystycznych takich jak:\n",
    "* średnia\n",
    "* mediana\n",
    "* odchylenie standardowe\n",
    "* macierz korelacji"
   ]
  },
  {
   "cell_type": "markdown",
   "metadata": {},
   "source": [
    "### Zadanie\n",
    "Funkcja zwracająca średnią, medianę i odchylenie standardowe dla podanej tablicy."
   ]
  },
  {
   "cell_type": "code",
   "execution_count": 62,
   "metadata": {},
   "outputs": [],
   "source": [
    "def statystyki(dane):\n",
    "    tablica_wynikow =[]\n",
    "    \n",
    "    tablica_wynikow.append(np.average(dane))\n",
    "    tablica_wynikow.append(np.median(dane))\n",
    "    tablica_wynikow.append(np.mean(dane))\n",
    "    tablica_wynikow.append(np.std(dane))\n",
    "    \n",
    "    return tablica_wynikow\n",
    "\n",
    "\n"
   ]
  },
  {
   "cell_type": "code",
   "execution_count": 61,
   "metadata": {},
   "outputs": [
    {
     "data": {
      "text/plain": [
       "[3.0, 3.0, 3.0, 1.4142135623730951]"
      ]
     },
     "execution_count": 61,
     "metadata": {},
     "output_type": "execute_result"
    }
   ],
   "source": [
    "dane = [1,2,3,4,5]\n",
    "\n",
    "statystyki(dane)"
   ]
  },
  {
   "cell_type": "code",
   "execution_count": 65,
   "metadata": {},
   "outputs": [],
   "source": [
    "np.savetxt('/Users/kamil/Desktop/PythonProject/pythonProjects/tablica.txt',roi,delimiter=',')"
   ]
  },
  {
   "cell_type": "code",
   "execution_count": 66,
   "metadata": {},
   "outputs": [
    {
     "data": {
      "text/plain": [
       "array([ 125.,  375., 1000., 2000.,   40.])"
      ]
     },
     "execution_count": 66,
     "metadata": {},
     "output_type": "execute_result"
    }
   ],
   "source": [
    "odczytpliku=np.loadtxt('/Users/kamil/Desktop/PythonProject/pythonProjects/tablica.txt')\n",
    "odczytpliku"
   ]
  },
  {
   "cell_type": "code",
   "execution_count": 67,
   "metadata": {},
   "outputs": [
    {
     "data": {
      "text/plain": [
       "array([[0., 0.],\n",
       "       [0., 0.],\n",
       "       [0., 0.]])"
      ]
     },
     "execution_count": 67,
     "metadata": {},
     "output_type": "execute_result"
    }
   ],
   "source": [
    "np.zeros((3,2))"
   ]
  },
  {
   "cell_type": "code",
   "execution_count": 33,
   "metadata": {},
   "outputs": [
    {
     "data": {
      "text/plain": [
       "array([[0, 1],\n",
       "       [2, 3],\n",
       "       [4, 5],\n",
       "       [6, 7],\n",
       "       [8, 9]])"
      ]
     },
     "execution_count": 33,
     "metadata": {},
     "output_type": "execute_result"
    }
   ],
   "source": [
    "tab=np.array([range(10)])\n",
    "tabreshape=tab.reshape(5,2)\n",
    "tabreshape"
   ]
  },
  {
   "cell_type": "markdown",
   "metadata": {},
   "source": [
    "Numpy Random (moduł do tworzenia tablic z liczbami pseudolosowymi):\n",
    "* radint - liczby całkowite\n",
    "* choice - liczby z określonego przedziału\n",
    "* random - rozkład jednostajny\n",
    "* normal - rozkład normalny"
   ]
  },
  {
   "cell_type": "code",
   "execution_count": 35,
   "metadata": {},
   "outputs": [
    {
     "data": {
      "text/plain": [
       "array([[0, 2, 7],\n",
       "       [2, 9, 6],\n",
       "       [9, 5, 2]])"
      ]
     },
     "execution_count": 35,
     "metadata": {},
     "output_type": "execute_result"
    }
   ],
   "source": [
    "M=np.random.randint(10,size=(3,3))\n",
    "M"
   ]
  },
  {
   "cell_type": "markdown",
   "metadata": {},
   "source": [
    "### Zadanie\n",
    "Stworzenie programu symulującego losowanie Dużego Lotka"
   ]
  },
  {
   "cell_type": "code",
   "execution_count": 71,
   "metadata": {},
   "outputs": [
    {
     "name": "stdout",
     "output_type": "stream",
     "text": [
      "[[57 12 45 30 53 10]]\n"
     ]
    }
   ],
   "source": [
    "def losowanie():\n",
    "    wylosowane = np.random.randint(1,69, size=(1,6))\n",
    "    return wylosowane\n",
    "\n",
    "wylosowane = losowanie()\n",
    "print(wylosowane)"
   ]
  },
  {
   "cell_type": "markdown",
   "metadata": {},
   "source": [
    "### Zadanie\n",
    "Jaka będzie oczekiwana liczba trafień w 1000000 losowań."
   ]
  },
  {
   "cell_type": "code",
   "execution_count": null,
   "metadata": {},
   "outputs": [],
   "source": [
    "los = [4, 6, 23, 11, 54, 23]\n",
    "\n",
    "for i in range(0,1000000, 1):\n",
    "    wylosowane = losowanie()\n",
    "    \n",
    "\n"
   ]
  },
  {
   "cell_type": "code",
   "execution_count": null,
   "metadata": {},
   "outputs": [],
   "source": []
  },
  {
   "cell_type": "code",
   "execution_count": null,
   "metadata": {},
   "outputs": [],
   "source": []
  },
  {
   "cell_type": "code",
   "execution_count": null,
   "metadata": {},
   "outputs": [],
   "source": []
  },
  {
   "cell_type": "code",
   "execution_count": null,
   "metadata": {},
   "outputs": [],
   "source": []
  },
  {
   "cell_type": "markdown",
   "metadata": {},
   "source": [
    "## 2. Przetwarzanie danych w Pandas\n",
    "Biblioteka pozwalająca na odczyt oraz przetwarzanie, czyszczenie i analizę danych. Podstawową strukturą jest ramka danych (DataFrame)."
   ]
  },
  {
   "cell_type": "code",
   "execution_count": 56,
   "metadata": {},
   "outputs": [],
   "source": [
    "import pandas as pd"
   ]
  },
  {
   "cell_type": "code",
   "execution_count": 57,
   "metadata": {},
   "outputs": [],
   "source": [
    "hitters=pd.read_csv('C:/Users/PawelEkk-Cierniakows/Downloads/hitters.csv')"
   ]
  },
  {
   "cell_type": "markdown",
   "metadata": {},
   "source": [
    "Metoda DataFrame.head() pozwala na wyświetlenie określonej liczby pierwszysch wierszy (domyślnie 5)."
   ]
  },
  {
   "cell_type": "code",
   "execution_count": 58,
   "metadata": {},
   "outputs": [
    {
     "data": {
      "text/html": [
       "<div>\n",
       "<style scoped>\n",
       "    .dataframe tbody tr th:only-of-type {\n",
       "        vertical-align: middle;\n",
       "    }\n",
       "\n",
       "    .dataframe tbody tr th {\n",
       "        vertical-align: top;\n",
       "    }\n",
       "\n",
       "    .dataframe thead th {\n",
       "        text-align: right;\n",
       "    }\n",
       "</style>\n",
       "<table border=\"1\" class=\"dataframe\">\n",
       "  <thead>\n",
       "    <tr style=\"text-align: right;\">\n",
       "      <th></th>\n",
       "      <th>Positions</th>\n",
       "      <th>Putouts</th>\n",
       "      <th>Assists</th>\n",
       "      <th>Errors</th>\n",
       "    </tr>\n",
       "  </thead>\n",
       "  <tbody>\n",
       "    <tr>\n",
       "      <th>0</th>\n",
       "      <td>1B</td>\n",
       "      <td>1.000000</td>\n",
       "      <td>0.209446</td>\n",
       "      <td>0.296296</td>\n",
       "    </tr>\n",
       "    <tr>\n",
       "      <th>1</th>\n",
       "      <td>1B</td>\n",
       "      <td>0.758345</td>\n",
       "      <td>0.180698</td>\n",
       "      <td>0.481481</td>\n",
       "    </tr>\n",
       "    <tr>\n",
       "      <th>2</th>\n",
       "      <td>1B</td>\n",
       "      <td>0.774311</td>\n",
       "      <td>0.322382</td>\n",
       "      <td>0.518519</td>\n",
       "    </tr>\n",
       "    <tr>\n",
       "      <th>3</th>\n",
       "      <td>1B</td>\n",
       "      <td>0.886792</td>\n",
       "      <td>0.285421</td>\n",
       "      <td>0.555556</td>\n",
       "    </tr>\n",
       "    <tr>\n",
       "      <th>4</th>\n",
       "      <td>1B</td>\n",
       "      <td>0.689768</td>\n",
       "      <td>0.140657</td>\n",
       "      <td>0.222222</td>\n",
       "    </tr>\n",
       "  </tbody>\n",
       "</table>\n",
       "</div>"
      ],
      "text/plain": [
       "  Positions   Putouts   Assists    Errors\n",
       "0        1B  1.000000  0.209446  0.296296\n",
       "1        1B  0.758345  0.180698  0.481481\n",
       "2        1B  0.774311  0.322382  0.518519\n",
       "3        1B  0.886792  0.285421  0.555556\n",
       "4        1B  0.689768  0.140657  0.222222"
      ]
     },
     "execution_count": 58,
     "metadata": {},
     "output_type": "execute_result"
    }
   ],
   "source": [
    "hitters.head()"
   ]
  },
  {
   "cell_type": "markdown",
   "metadata": {},
   "source": [
    "Metoda DataFrame.info() wyświetla informacje o:\n",
    "* zakresie indeksu\n",
    "* nazwach kolumn\n",
    "* liczbie niepustych obserwacji w poszczególnych kolumnach\n",
    "* typie poszczególnych kolumn\n",
    "* wykorzystanej pamięci"
   ]
  },
  {
   "cell_type": "code",
   "execution_count": 59,
   "metadata": {},
   "outputs": [
    {
     "name": "stdout",
     "output_type": "stream",
     "text": [
      "<class 'pandas.core.frame.DataFrame'>\n",
      "RangeIndex: 154 entries, 0 to 153\n",
      "Data columns (total 4 columns):\n",
      " #   Column     Non-Null Count  Dtype  \n",
      "---  ------     --------------  -----  \n",
      " 0   Positions  154 non-null    object \n",
      " 1   Putouts    154 non-null    float64\n",
      " 2   Assists    154 non-null    float64\n",
      " 3   Errors     154 non-null    float64\n",
      "dtypes: float64(3), object(1)\n",
      "memory usage: 4.9+ KB\n"
     ]
    }
   ],
   "source": [
    "hitters.info()"
   ]
  },
  {
   "cell_type": "markdown",
   "metadata": {},
   "source": [
    "Metody wyświetlające statystyki:\n",
    "* mean - średnia\n",
    "* median - mediana\n",
    "* var - wariancja\n",
    "* std - odchylenie standardowe\n",
    "* quantile - percentyle (przyjmują jako argument listę interesujących nas percentyli)"
   ]
  },
  {
   "cell_type": "code",
   "execution_count": 60,
   "metadata": {},
   "outputs": [
    {
     "data": {
      "text/plain": [
       "(0.3543805612594113,\n",
       " 0.27412731006160146,\n",
       " 0.01    0.000000\n",
       " 0.25    0.085216\n",
       " 0.50    0.274127\n",
       " 0.75    0.593429\n",
       " 0.99    0.986468\n",
       " Name: Assists, dtype: float64)"
      ]
     },
     "execution_count": 60,
     "metadata": {},
     "output_type": "execute_result"
    }
   ],
   "source": [
    "hitters['Assists'].mean(),hitters['Assists'].median(),hitters['Assists'].quantile([.01,.25,.5,.75,.99])"
   ]
  },
  {
   "cell_type": "markdown",
   "metadata": {},
   "source": [
    "Do wyświetlenia podstawowych informacji statystycznych dla ramki danych służy metoda DataFrame.describe("
   ]
  },
  {
   "cell_type": "code",
   "execution_count": 61,
   "metadata": {},
   "outputs": [
    {
     "data": {
      "text/html": [
       "<div>\n",
       "<style scoped>\n",
       "    .dataframe tbody tr th:only-of-type {\n",
       "        vertical-align: middle;\n",
       "    }\n",
       "\n",
       "    .dataframe tbody tr th {\n",
       "        vertical-align: top;\n",
       "    }\n",
       "\n",
       "    .dataframe thead th {\n",
       "        text-align: right;\n",
       "    }\n",
       "</style>\n",
       "<table border=\"1\" class=\"dataframe\">\n",
       "  <thead>\n",
       "    <tr style=\"text-align: right;\">\n",
       "      <th></th>\n",
       "      <th>Putouts</th>\n",
       "      <th>Assists</th>\n",
       "      <th>Errors</th>\n",
       "    </tr>\n",
       "  </thead>\n",
       "  <tbody>\n",
       "    <tr>\n",
       "      <th>count</th>\n",
       "      <td>154.000000</td>\n",
       "      <td>154.000000</td>\n",
       "      <td>154.000000</td>\n",
       "    </tr>\n",
       "    <tr>\n",
       "      <th>mean</th>\n",
       "      <td>0.256545</td>\n",
       "      <td>0.354381</td>\n",
       "      <td>0.385642</td>\n",
       "    </tr>\n",
       "    <tr>\n",
       "      <th>std</th>\n",
       "      <td>0.246746</td>\n",
       "      <td>0.310717</td>\n",
       "      <td>0.244264</td>\n",
       "    </tr>\n",
       "    <tr>\n",
       "      <th>min</th>\n",
       "      <td>0.027939</td>\n",
       "      <td>0.000000</td>\n",
       "      <td>0.000000</td>\n",
       "    </tr>\n",
       "    <tr>\n",
       "      <th>25%</th>\n",
       "      <td>0.085087</td>\n",
       "      <td>0.085216</td>\n",
       "      <td>0.185185</td>\n",
       "    </tr>\n",
       "    <tr>\n",
       "      <th>50%</th>\n",
       "      <td>0.161829</td>\n",
       "      <td>0.274127</td>\n",
       "      <td>0.333333</td>\n",
       "    </tr>\n",
       "    <tr>\n",
       "      <th>75%</th>\n",
       "      <td>0.341074</td>\n",
       "      <td>0.593429</td>\n",
       "      <td>0.586420</td>\n",
       "    </tr>\n",
       "    <tr>\n",
       "      <th>max</th>\n",
       "      <td>1.000000</td>\n",
       "      <td>1.000000</td>\n",
       "      <td>1.000000</td>\n",
       "    </tr>\n",
       "  </tbody>\n",
       "</table>\n",
       "</div>"
      ],
      "text/plain": [
       "          Putouts     Assists      Errors\n",
       "count  154.000000  154.000000  154.000000\n",
       "mean     0.256545    0.354381    0.385642\n",
       "std      0.246746    0.310717    0.244264\n",
       "min      0.027939    0.000000    0.000000\n",
       "25%      0.085087    0.085216    0.185185\n",
       "50%      0.161829    0.274127    0.333333\n",
       "75%      0.341074    0.593429    0.586420\n",
       "max      1.000000    1.000000    1.000000"
      ]
     },
     "execution_count": 61,
     "metadata": {},
     "output_type": "execute_result"
    }
   ],
   "source": [
    "hitters.describe()"
   ]
  },
  {
   "cell_type": "markdown",
   "metadata": {},
   "source": [
    "Metoda value_counts() podsumowuje ilości poszczególnych grup w ramach zmiennych kategorycznych"
   ]
  },
  {
   "cell_type": "code",
   "execution_count": null,
   "metadata": {},
   "outputs": [],
   "source": [
    "hitters['Positions'].value_counts()"
   ]
  },
  {
   "cell_type": "code",
   "execution_count": 63,
   "metadata": {},
   "outputs": [
    {
     "data": {
      "text/plain": [
       "Positions\n",
       "1B    0.185832\n",
       "2B    0.739462\n",
       "3B    0.448280\n",
       "C     0.102099\n",
       "OF    0.007839\n",
       "SS    0.701446\n",
       "UT    0.166088\n",
       "Name: Assists, dtype: float64"
      ]
     },
     "execution_count": 63,
     "metadata": {},
     "output_type": "execute_result"
    }
   ],
   "source": [
    "hitters.groupby('Positions').Assists.mean()"
   ]
  },
  {
   "cell_type": "markdown",
   "metadata": {},
   "source": [
    "DataFrame może zostać stworzony na podstawie słownika z użyciem funkcji pd.DataFrame(słownik)"
   ]
  },
  {
   "cell_type": "code",
   "execution_count": 66,
   "metadata": {},
   "outputs": [],
   "source": [
    "dictionary={'a':np.random.randint(100,size=10),'b':np.random.randint(100,size=10)}"
   ]
  },
  {
   "cell_type": "code",
   "execution_count": 67,
   "metadata": {},
   "outputs": [
    {
     "data": {
      "text/plain": [
       "{'a': array([36, 81, 11, 14, 24, 42, 16, 34, 66, 52]),\n",
       " 'b': array([97, 43, 95, 33, 97, 64, 43, 23, 75, 14])}"
      ]
     },
     "execution_count": 67,
     "metadata": {},
     "output_type": "execute_result"
    }
   ],
   "source": [
    "dictionary"
   ]
  },
  {
   "cell_type": "code",
   "execution_count": 68,
   "metadata": {},
   "outputs": [],
   "source": [
    "df=pd.DataFrame(dictionary)"
   ]
  },
  {
   "cell_type": "code",
   "execution_count": 69,
   "metadata": {},
   "outputs": [
    {
     "data": {
      "text/html": [
       "<div>\n",
       "<style scoped>\n",
       "    .dataframe tbody tr th:only-of-type {\n",
       "        vertical-align: middle;\n",
       "    }\n",
       "\n",
       "    .dataframe tbody tr th {\n",
       "        vertical-align: top;\n",
       "    }\n",
       "\n",
       "    .dataframe thead th {\n",
       "        text-align: right;\n",
       "    }\n",
       "</style>\n",
       "<table border=\"1\" class=\"dataframe\">\n",
       "  <thead>\n",
       "    <tr style=\"text-align: right;\">\n",
       "      <th></th>\n",
       "      <th>a</th>\n",
       "      <th>b</th>\n",
       "    </tr>\n",
       "  </thead>\n",
       "  <tbody>\n",
       "    <tr>\n",
       "      <th>0</th>\n",
       "      <td>36</td>\n",
       "      <td>97</td>\n",
       "    </tr>\n",
       "    <tr>\n",
       "      <th>1</th>\n",
       "      <td>81</td>\n",
       "      <td>43</td>\n",
       "    </tr>\n",
       "    <tr>\n",
       "      <th>2</th>\n",
       "      <td>11</td>\n",
       "      <td>95</td>\n",
       "    </tr>\n",
       "    <tr>\n",
       "      <th>3</th>\n",
       "      <td>14</td>\n",
       "      <td>33</td>\n",
       "    </tr>\n",
       "    <tr>\n",
       "      <th>4</th>\n",
       "      <td>24</td>\n",
       "      <td>97</td>\n",
       "    </tr>\n",
       "    <tr>\n",
       "      <th>5</th>\n",
       "      <td>42</td>\n",
       "      <td>64</td>\n",
       "    </tr>\n",
       "    <tr>\n",
       "      <th>6</th>\n",
       "      <td>16</td>\n",
       "      <td>43</td>\n",
       "    </tr>\n",
       "    <tr>\n",
       "      <th>7</th>\n",
       "      <td>34</td>\n",
       "      <td>23</td>\n",
       "    </tr>\n",
       "    <tr>\n",
       "      <th>8</th>\n",
       "      <td>66</td>\n",
       "      <td>75</td>\n",
       "    </tr>\n",
       "    <tr>\n",
       "      <th>9</th>\n",
       "      <td>52</td>\n",
       "      <td>14</td>\n",
       "    </tr>\n",
       "  </tbody>\n",
       "</table>\n",
       "</div>"
      ],
      "text/plain": [
       "    a   b\n",
       "0  36  97\n",
       "1  81  43\n",
       "2  11  95\n",
       "3  14  33\n",
       "4  24  97\n",
       "5  42  64\n",
       "6  16  43\n",
       "7  34  23\n",
       "8  66  75\n",
       "9  52  14"
      ]
     },
     "execution_count": 69,
     "metadata": {},
     "output_type": "execute_result"
    }
   ],
   "source": [
    "df"
   ]
  },
  {
   "cell_type": "code",
   "execution_count": 70,
   "metadata": {},
   "outputs": [
    {
     "data": {
      "text/html": [
       "<div>\n",
       "<style scoped>\n",
       "    .dataframe tbody tr th:only-of-type {\n",
       "        vertical-align: middle;\n",
       "    }\n",
       "\n",
       "    .dataframe tbody tr th {\n",
       "        vertical-align: top;\n",
       "    }\n",
       "\n",
       "    .dataframe thead th {\n",
       "        text-align: right;\n",
       "    }\n",
       "</style>\n",
       "<table border=\"1\" class=\"dataframe\">\n",
       "  <thead>\n",
       "    <tr style=\"text-align: right;\">\n",
       "      <th></th>\n",
       "      <th>a</th>\n",
       "      <th>b</th>\n",
       "      <th>c</th>\n",
       "    </tr>\n",
       "  </thead>\n",
       "  <tbody>\n",
       "    <tr>\n",
       "      <th>0</th>\n",
       "      <td>36</td>\n",
       "      <td>97</td>\n",
       "      <td>133</td>\n",
       "    </tr>\n",
       "    <tr>\n",
       "      <th>1</th>\n",
       "      <td>81</td>\n",
       "      <td>43</td>\n",
       "      <td>124</td>\n",
       "    </tr>\n",
       "    <tr>\n",
       "      <th>2</th>\n",
       "      <td>11</td>\n",
       "      <td>95</td>\n",
       "      <td>106</td>\n",
       "    </tr>\n",
       "    <tr>\n",
       "      <th>3</th>\n",
       "      <td>14</td>\n",
       "      <td>33</td>\n",
       "      <td>47</td>\n",
       "    </tr>\n",
       "    <tr>\n",
       "      <th>4</th>\n",
       "      <td>24</td>\n",
       "      <td>97</td>\n",
       "      <td>121</td>\n",
       "    </tr>\n",
       "    <tr>\n",
       "      <th>5</th>\n",
       "      <td>42</td>\n",
       "      <td>64</td>\n",
       "      <td>106</td>\n",
       "    </tr>\n",
       "    <tr>\n",
       "      <th>6</th>\n",
       "      <td>16</td>\n",
       "      <td>43</td>\n",
       "      <td>59</td>\n",
       "    </tr>\n",
       "    <tr>\n",
       "      <th>7</th>\n",
       "      <td>34</td>\n",
       "      <td>23</td>\n",
       "      <td>57</td>\n",
       "    </tr>\n",
       "    <tr>\n",
       "      <th>8</th>\n",
       "      <td>66</td>\n",
       "      <td>75</td>\n",
       "      <td>141</td>\n",
       "    </tr>\n",
       "    <tr>\n",
       "      <th>9</th>\n",
       "      <td>52</td>\n",
       "      <td>14</td>\n",
       "      <td>66</td>\n",
       "    </tr>\n",
       "  </tbody>\n",
       "</table>\n",
       "</div>"
      ],
      "text/plain": [
       "    a   b    c\n",
       "0  36  97  133\n",
       "1  81  43  124\n",
       "2  11  95  106\n",
       "3  14  33   47\n",
       "4  24  97  121\n",
       "5  42  64  106\n",
       "6  16  43   59\n",
       "7  34  23   57\n",
       "8  66  75  141\n",
       "9  52  14   66"
      ]
     },
     "execution_count": 70,
     "metadata": {},
     "output_type": "execute_result"
    }
   ],
   "source": [
    "df['c']=df['a']+df['b']\n",
    "df"
   ]
  },
  {
   "cell_type": "code",
   "execution_count": 72,
   "metadata": {},
   "outputs": [
    {
     "data": {
      "text/html": [
       "<div>\n",
       "<style scoped>\n",
       "    .dataframe tbody tr th:only-of-type {\n",
       "        vertical-align: middle;\n",
       "    }\n",
       "\n",
       "    .dataframe tbody tr th {\n",
       "        vertical-align: top;\n",
       "    }\n",
       "\n",
       "    .dataframe thead th {\n",
       "        text-align: right;\n",
       "    }\n",
       "</style>\n",
       "<table border=\"1\" class=\"dataframe\">\n",
       "  <thead>\n",
       "    <tr style=\"text-align: right;\">\n",
       "      <th></th>\n",
       "      <th>a</th>\n",
       "      <th>b</th>\n",
       "      <th>c</th>\n",
       "      <th>d</th>\n",
       "    </tr>\n",
       "  </thead>\n",
       "  <tbody>\n",
       "    <tr>\n",
       "      <th>0</th>\n",
       "      <td>36</td>\n",
       "      <td>97</td>\n",
       "      <td>133</td>\n",
       "      <td>True</td>\n",
       "    </tr>\n",
       "    <tr>\n",
       "      <th>1</th>\n",
       "      <td>81</td>\n",
       "      <td>43</td>\n",
       "      <td>124</td>\n",
       "      <td>True</td>\n",
       "    </tr>\n",
       "    <tr>\n",
       "      <th>2</th>\n",
       "      <td>11</td>\n",
       "      <td>95</td>\n",
       "      <td>106</td>\n",
       "      <td>True</td>\n",
       "    </tr>\n",
       "    <tr>\n",
       "      <th>3</th>\n",
       "      <td>14</td>\n",
       "      <td>33</td>\n",
       "      <td>47</td>\n",
       "      <td>False</td>\n",
       "    </tr>\n",
       "    <tr>\n",
       "      <th>4</th>\n",
       "      <td>24</td>\n",
       "      <td>97</td>\n",
       "      <td>121</td>\n",
       "      <td>True</td>\n",
       "    </tr>\n",
       "    <tr>\n",
       "      <th>5</th>\n",
       "      <td>42</td>\n",
       "      <td>64</td>\n",
       "      <td>106</td>\n",
       "      <td>True</td>\n",
       "    </tr>\n",
       "    <tr>\n",
       "      <th>6</th>\n",
       "      <td>16</td>\n",
       "      <td>43</td>\n",
       "      <td>59</td>\n",
       "      <td>False</td>\n",
       "    </tr>\n",
       "    <tr>\n",
       "      <th>7</th>\n",
       "      <td>34</td>\n",
       "      <td>23</td>\n",
       "      <td>57</td>\n",
       "      <td>False</td>\n",
       "    </tr>\n",
       "    <tr>\n",
       "      <th>8</th>\n",
       "      <td>66</td>\n",
       "      <td>75</td>\n",
       "      <td>141</td>\n",
       "      <td>True</td>\n",
       "    </tr>\n",
       "    <tr>\n",
       "      <th>9</th>\n",
       "      <td>52</td>\n",
       "      <td>14</td>\n",
       "      <td>66</td>\n",
       "      <td>False</td>\n",
       "    </tr>\n",
       "  </tbody>\n",
       "</table>\n",
       "</div>"
      ],
      "text/plain": [
       "    a   b    c      d\n",
       "0  36  97  133   True\n",
       "1  81  43  124   True\n",
       "2  11  95  106   True\n",
       "3  14  33   47  False\n",
       "4  24  97  121   True\n",
       "5  42  64  106   True\n",
       "6  16  43   59  False\n",
       "7  34  23   57  False\n",
       "8  66  75  141   True\n",
       "9  52  14   66  False"
      ]
     },
     "execution_count": 72,
     "metadata": {},
     "output_type": "execute_result"
    }
   ],
   "source": [
    "df['d']=df['c']>100\n",
    "df"
   ]
  },
  {
   "cell_type": "code",
   "execution_count": 74,
   "metadata": {},
   "outputs": [
    {
     "data": {
      "text/html": [
       "<div>\n",
       "<style scoped>\n",
       "    .dataframe tbody tr th:only-of-type {\n",
       "        vertical-align: middle;\n",
       "    }\n",
       "\n",
       "    .dataframe tbody tr th {\n",
       "        vertical-align: top;\n",
       "    }\n",
       "\n",
       "    .dataframe thead th {\n",
       "        text-align: right;\n",
       "    }\n",
       "</style>\n",
       "<table border=\"1\" class=\"dataframe\">\n",
       "  <thead>\n",
       "    <tr style=\"text-align: right;\">\n",
       "      <th></th>\n",
       "      <th>a</th>\n",
       "      <th>b</th>\n",
       "      <th>c</th>\n",
       "      <th>d</th>\n",
       "      <th>e</th>\n",
       "    </tr>\n",
       "  </thead>\n",
       "  <tbody>\n",
       "    <tr>\n",
       "      <th>0</th>\n",
       "      <td>36</td>\n",
       "      <td>97</td>\n",
       "      <td>133</td>\n",
       "      <td>True</td>\n",
       "      <td>text</td>\n",
       "    </tr>\n",
       "    <tr>\n",
       "      <th>1</th>\n",
       "      <td>81</td>\n",
       "      <td>43</td>\n",
       "      <td>124</td>\n",
       "      <td>True</td>\n",
       "      <td>text</td>\n",
       "    </tr>\n",
       "    <tr>\n",
       "      <th>2</th>\n",
       "      <td>11</td>\n",
       "      <td>95</td>\n",
       "      <td>106</td>\n",
       "      <td>True</td>\n",
       "      <td>text</td>\n",
       "    </tr>\n",
       "    <tr>\n",
       "      <th>3</th>\n",
       "      <td>14</td>\n",
       "      <td>33</td>\n",
       "      <td>47</td>\n",
       "      <td>False</td>\n",
       "      <td>text</td>\n",
       "    </tr>\n",
       "    <tr>\n",
       "      <th>4</th>\n",
       "      <td>24</td>\n",
       "      <td>97</td>\n",
       "      <td>121</td>\n",
       "      <td>True</td>\n",
       "      <td>text</td>\n",
       "    </tr>\n",
       "    <tr>\n",
       "      <th>5</th>\n",
       "      <td>42</td>\n",
       "      <td>64</td>\n",
       "      <td>106</td>\n",
       "      <td>True</td>\n",
       "      <td>text</td>\n",
       "    </tr>\n",
       "    <tr>\n",
       "      <th>6</th>\n",
       "      <td>16</td>\n",
       "      <td>43</td>\n",
       "      <td>59</td>\n",
       "      <td>False</td>\n",
       "      <td>text</td>\n",
       "    </tr>\n",
       "    <tr>\n",
       "      <th>7</th>\n",
       "      <td>34</td>\n",
       "      <td>23</td>\n",
       "      <td>57</td>\n",
       "      <td>False</td>\n",
       "      <td>text</td>\n",
       "    </tr>\n",
       "    <tr>\n",
       "      <th>8</th>\n",
       "      <td>66</td>\n",
       "      <td>75</td>\n",
       "      <td>141</td>\n",
       "      <td>True</td>\n",
       "      <td>text</td>\n",
       "    </tr>\n",
       "    <tr>\n",
       "      <th>9</th>\n",
       "      <td>52</td>\n",
       "      <td>14</td>\n",
       "      <td>66</td>\n",
       "      <td>False</td>\n",
       "      <td>text</td>\n",
       "    </tr>\n",
       "  </tbody>\n",
       "</table>\n",
       "</div>"
      ],
      "text/plain": [
       "    a   b    c      d     e\n",
       "0  36  97  133   True  text\n",
       "1  81  43  124   True  text\n",
       "2  11  95  106   True  text\n",
       "3  14  33   47  False  text\n",
       "4  24  97  121   True  text\n",
       "5  42  64  106   True  text\n",
       "6  16  43   59  False  text\n",
       "7  34  23   57  False  text\n",
       "8  66  75  141   True  text\n",
       "9  52  14   66  False  text"
      ]
     },
     "execution_count": 74,
     "metadata": {},
     "output_type": "execute_result"
    }
   ],
   "source": [
    "df['e']='text'\n",
    "df"
   ]
  },
  {
   "cell_type": "code",
   "execution_count": 75,
   "metadata": {},
   "outputs": [
    {
     "data": {
      "text/html": [
       "<div>\n",
       "<style scoped>\n",
       "    .dataframe tbody tr th:only-of-type {\n",
       "        vertical-align: middle;\n",
       "    }\n",
       "\n",
       "    .dataframe tbody tr th {\n",
       "        vertical-align: top;\n",
       "    }\n",
       "\n",
       "    .dataframe thead th {\n",
       "        text-align: right;\n",
       "    }\n",
       "</style>\n",
       "<table border=\"1\" class=\"dataframe\">\n",
       "  <thead>\n",
       "    <tr style=\"text-align: right;\">\n",
       "      <th></th>\n",
       "      <th>a</th>\n",
       "      <th>b</th>\n",
       "      <th>c</th>\n",
       "      <th>d</th>\n",
       "    </tr>\n",
       "  </thead>\n",
       "  <tbody>\n",
       "    <tr>\n",
       "      <th>0</th>\n",
       "      <td>36</td>\n",
       "      <td>97</td>\n",
       "      <td>133</td>\n",
       "      <td>True</td>\n",
       "    </tr>\n",
       "    <tr>\n",
       "      <th>1</th>\n",
       "      <td>81</td>\n",
       "      <td>43</td>\n",
       "      <td>124</td>\n",
       "      <td>True</td>\n",
       "    </tr>\n",
       "    <tr>\n",
       "      <th>2</th>\n",
       "      <td>11</td>\n",
       "      <td>95</td>\n",
       "      <td>106</td>\n",
       "      <td>True</td>\n",
       "    </tr>\n",
       "    <tr>\n",
       "      <th>3</th>\n",
       "      <td>14</td>\n",
       "      <td>33</td>\n",
       "      <td>47</td>\n",
       "      <td>False</td>\n",
       "    </tr>\n",
       "    <tr>\n",
       "      <th>4</th>\n",
       "      <td>24</td>\n",
       "      <td>97</td>\n",
       "      <td>121</td>\n",
       "      <td>True</td>\n",
       "    </tr>\n",
       "    <tr>\n",
       "      <th>5</th>\n",
       "      <td>42</td>\n",
       "      <td>64</td>\n",
       "      <td>106</td>\n",
       "      <td>True</td>\n",
       "    </tr>\n",
       "    <tr>\n",
       "      <th>6</th>\n",
       "      <td>16</td>\n",
       "      <td>43</td>\n",
       "      <td>59</td>\n",
       "      <td>False</td>\n",
       "    </tr>\n",
       "    <tr>\n",
       "      <th>7</th>\n",
       "      <td>34</td>\n",
       "      <td>23</td>\n",
       "      <td>57</td>\n",
       "      <td>False</td>\n",
       "    </tr>\n",
       "    <tr>\n",
       "      <th>8</th>\n",
       "      <td>66</td>\n",
       "      <td>75</td>\n",
       "      <td>141</td>\n",
       "      <td>True</td>\n",
       "    </tr>\n",
       "    <tr>\n",
       "      <th>9</th>\n",
       "      <td>52</td>\n",
       "      <td>14</td>\n",
       "      <td>66</td>\n",
       "      <td>False</td>\n",
       "    </tr>\n",
       "  </tbody>\n",
       "</table>\n",
       "</div>"
      ],
      "text/plain": [
       "    a   b    c      d\n",
       "0  36  97  133   True\n",
       "1  81  43  124   True\n",
       "2  11  95  106   True\n",
       "3  14  33   47  False\n",
       "4  24  97  121   True\n",
       "5  42  64  106   True\n",
       "6  16  43   59  False\n",
       "7  34  23   57  False\n",
       "8  66  75  141   True\n",
       "9  52  14   66  False"
      ]
     },
     "execution_count": 75,
     "metadata": {},
     "output_type": "execute_result"
    }
   ],
   "source": [
    "del df['e']\n",
    "df"
   ]
  },
  {
   "cell_type": "markdown",
   "metadata": {},
   "source": [
    "### Zadanie\n",
    "Analiza pliku Hitters.csv pod kątem pensji powyżej mediany."
   ]
  },
  {
   "cell_type": "code",
   "execution_count": 84,
   "metadata": {},
   "outputs": [],
   "source": [
    "hitters=pd.read_csv('C:/Users/PawelEkk-Cierniakows/Downloads/Hitters.csv')"
   ]
  },
  {
   "cell_type": "code",
   "execution_count": 79,
   "metadata": {},
   "outputs": [
    {
     "data": {
      "text/html": [
       "<div>\n",
       "<style scoped>\n",
       "    .dataframe tbody tr th:only-of-type {\n",
       "        vertical-align: middle;\n",
       "    }\n",
       "\n",
       "    .dataframe tbody tr th {\n",
       "        vertical-align: top;\n",
       "    }\n",
       "\n",
       "    .dataframe thead th {\n",
       "        text-align: right;\n",
       "    }\n",
       "</style>\n",
       "<table border=\"1\" class=\"dataframe\">\n",
       "  <thead>\n",
       "    <tr style=\"text-align: right;\">\n",
       "      <th></th>\n",
       "      <th>Unnamed: 0</th>\n",
       "      <th>AtBat</th>\n",
       "      <th>Hits</th>\n",
       "      <th>HmRun</th>\n",
       "      <th>Runs</th>\n",
       "      <th>RBI</th>\n",
       "      <th>Walks</th>\n",
       "      <th>Years</th>\n",
       "      <th>CAtBat</th>\n",
       "      <th>CHits</th>\n",
       "      <th>...</th>\n",
       "      <th>CRuns</th>\n",
       "      <th>CRBI</th>\n",
       "      <th>CWalks</th>\n",
       "      <th>League</th>\n",
       "      <th>Division</th>\n",
       "      <th>PutOuts</th>\n",
       "      <th>Assists</th>\n",
       "      <th>Errors</th>\n",
       "      <th>Salary</th>\n",
       "      <th>NewLeague</th>\n",
       "    </tr>\n",
       "  </thead>\n",
       "  <tbody>\n",
       "    <tr>\n",
       "      <th>0</th>\n",
       "      <td>-Andy Allanson</td>\n",
       "      <td>293</td>\n",
       "      <td>66</td>\n",
       "      <td>1</td>\n",
       "      <td>30</td>\n",
       "      <td>29</td>\n",
       "      <td>14</td>\n",
       "      <td>1</td>\n",
       "      <td>293</td>\n",
       "      <td>66</td>\n",
       "      <td>...</td>\n",
       "      <td>30</td>\n",
       "      <td>29</td>\n",
       "      <td>14</td>\n",
       "      <td>A</td>\n",
       "      <td>E</td>\n",
       "      <td>446</td>\n",
       "      <td>33</td>\n",
       "      <td>20</td>\n",
       "      <td>NaN</td>\n",
       "      <td>A</td>\n",
       "    </tr>\n",
       "    <tr>\n",
       "      <th>1</th>\n",
       "      <td>-Alan Ashby</td>\n",
       "      <td>315</td>\n",
       "      <td>81</td>\n",
       "      <td>7</td>\n",
       "      <td>24</td>\n",
       "      <td>38</td>\n",
       "      <td>39</td>\n",
       "      <td>14</td>\n",
       "      <td>3449</td>\n",
       "      <td>835</td>\n",
       "      <td>...</td>\n",
       "      <td>321</td>\n",
       "      <td>414</td>\n",
       "      <td>375</td>\n",
       "      <td>N</td>\n",
       "      <td>W</td>\n",
       "      <td>632</td>\n",
       "      <td>43</td>\n",
       "      <td>10</td>\n",
       "      <td>475.0</td>\n",
       "      <td>N</td>\n",
       "    </tr>\n",
       "    <tr>\n",
       "      <th>2</th>\n",
       "      <td>-Alvin Davis</td>\n",
       "      <td>479</td>\n",
       "      <td>130</td>\n",
       "      <td>18</td>\n",
       "      <td>66</td>\n",
       "      <td>72</td>\n",
       "      <td>76</td>\n",
       "      <td>3</td>\n",
       "      <td>1624</td>\n",
       "      <td>457</td>\n",
       "      <td>...</td>\n",
       "      <td>224</td>\n",
       "      <td>266</td>\n",
       "      <td>263</td>\n",
       "      <td>A</td>\n",
       "      <td>W</td>\n",
       "      <td>880</td>\n",
       "      <td>82</td>\n",
       "      <td>14</td>\n",
       "      <td>480.0</td>\n",
       "      <td>A</td>\n",
       "    </tr>\n",
       "    <tr>\n",
       "      <th>3</th>\n",
       "      <td>-Andre Dawson</td>\n",
       "      <td>496</td>\n",
       "      <td>141</td>\n",
       "      <td>20</td>\n",
       "      <td>65</td>\n",
       "      <td>78</td>\n",
       "      <td>37</td>\n",
       "      <td>11</td>\n",
       "      <td>5628</td>\n",
       "      <td>1575</td>\n",
       "      <td>...</td>\n",
       "      <td>828</td>\n",
       "      <td>838</td>\n",
       "      <td>354</td>\n",
       "      <td>N</td>\n",
       "      <td>E</td>\n",
       "      <td>200</td>\n",
       "      <td>11</td>\n",
       "      <td>3</td>\n",
       "      <td>500.0</td>\n",
       "      <td>N</td>\n",
       "    </tr>\n",
       "    <tr>\n",
       "      <th>4</th>\n",
       "      <td>-Andres Galarraga</td>\n",
       "      <td>321</td>\n",
       "      <td>87</td>\n",
       "      <td>10</td>\n",
       "      <td>39</td>\n",
       "      <td>42</td>\n",
       "      <td>30</td>\n",
       "      <td>2</td>\n",
       "      <td>396</td>\n",
       "      <td>101</td>\n",
       "      <td>...</td>\n",
       "      <td>48</td>\n",
       "      <td>46</td>\n",
       "      <td>33</td>\n",
       "      <td>N</td>\n",
       "      <td>E</td>\n",
       "      <td>805</td>\n",
       "      <td>40</td>\n",
       "      <td>4</td>\n",
       "      <td>91.5</td>\n",
       "      <td>N</td>\n",
       "    </tr>\n",
       "    <tr>\n",
       "      <th>...</th>\n",
       "      <td>...</td>\n",
       "      <td>...</td>\n",
       "      <td>...</td>\n",
       "      <td>...</td>\n",
       "      <td>...</td>\n",
       "      <td>...</td>\n",
       "      <td>...</td>\n",
       "      <td>...</td>\n",
       "      <td>...</td>\n",
       "      <td>...</td>\n",
       "      <td>...</td>\n",
       "      <td>...</td>\n",
       "      <td>...</td>\n",
       "      <td>...</td>\n",
       "      <td>...</td>\n",
       "      <td>...</td>\n",
       "      <td>...</td>\n",
       "      <td>...</td>\n",
       "      <td>...</td>\n",
       "      <td>...</td>\n",
       "      <td>...</td>\n",
       "    </tr>\n",
       "    <tr>\n",
       "      <th>317</th>\n",
       "      <td>-Willie McGee</td>\n",
       "      <td>497</td>\n",
       "      <td>127</td>\n",
       "      <td>7</td>\n",
       "      <td>65</td>\n",
       "      <td>48</td>\n",
       "      <td>37</td>\n",
       "      <td>5</td>\n",
       "      <td>2703</td>\n",
       "      <td>806</td>\n",
       "      <td>...</td>\n",
       "      <td>379</td>\n",
       "      <td>311</td>\n",
       "      <td>138</td>\n",
       "      <td>N</td>\n",
       "      <td>E</td>\n",
       "      <td>325</td>\n",
       "      <td>9</td>\n",
       "      <td>3</td>\n",
       "      <td>700.0</td>\n",
       "      <td>N</td>\n",
       "    </tr>\n",
       "    <tr>\n",
       "      <th>318</th>\n",
       "      <td>-Willie Randolph</td>\n",
       "      <td>492</td>\n",
       "      <td>136</td>\n",
       "      <td>5</td>\n",
       "      <td>76</td>\n",
       "      <td>50</td>\n",
       "      <td>94</td>\n",
       "      <td>12</td>\n",
       "      <td>5511</td>\n",
       "      <td>1511</td>\n",
       "      <td>...</td>\n",
       "      <td>897</td>\n",
       "      <td>451</td>\n",
       "      <td>875</td>\n",
       "      <td>A</td>\n",
       "      <td>E</td>\n",
       "      <td>313</td>\n",
       "      <td>381</td>\n",
       "      <td>20</td>\n",
       "      <td>875.0</td>\n",
       "      <td>A</td>\n",
       "    </tr>\n",
       "    <tr>\n",
       "      <th>319</th>\n",
       "      <td>-Wayne Tolleson</td>\n",
       "      <td>475</td>\n",
       "      <td>126</td>\n",
       "      <td>3</td>\n",
       "      <td>61</td>\n",
       "      <td>43</td>\n",
       "      <td>52</td>\n",
       "      <td>6</td>\n",
       "      <td>1700</td>\n",
       "      <td>433</td>\n",
       "      <td>...</td>\n",
       "      <td>217</td>\n",
       "      <td>93</td>\n",
       "      <td>146</td>\n",
       "      <td>A</td>\n",
       "      <td>W</td>\n",
       "      <td>37</td>\n",
       "      <td>113</td>\n",
       "      <td>7</td>\n",
       "      <td>385.0</td>\n",
       "      <td>A</td>\n",
       "    </tr>\n",
       "    <tr>\n",
       "      <th>320</th>\n",
       "      <td>-Willie Upshaw</td>\n",
       "      <td>573</td>\n",
       "      <td>144</td>\n",
       "      <td>9</td>\n",
       "      <td>85</td>\n",
       "      <td>60</td>\n",
       "      <td>78</td>\n",
       "      <td>8</td>\n",
       "      <td>3198</td>\n",
       "      <td>857</td>\n",
       "      <td>...</td>\n",
       "      <td>470</td>\n",
       "      <td>420</td>\n",
       "      <td>332</td>\n",
       "      <td>A</td>\n",
       "      <td>E</td>\n",
       "      <td>1314</td>\n",
       "      <td>131</td>\n",
       "      <td>12</td>\n",
       "      <td>960.0</td>\n",
       "      <td>A</td>\n",
       "    </tr>\n",
       "    <tr>\n",
       "      <th>321</th>\n",
       "      <td>-Willie Wilson</td>\n",
       "      <td>631</td>\n",
       "      <td>170</td>\n",
       "      <td>9</td>\n",
       "      <td>77</td>\n",
       "      <td>44</td>\n",
       "      <td>31</td>\n",
       "      <td>11</td>\n",
       "      <td>4908</td>\n",
       "      <td>1457</td>\n",
       "      <td>...</td>\n",
       "      <td>775</td>\n",
       "      <td>357</td>\n",
       "      <td>249</td>\n",
       "      <td>A</td>\n",
       "      <td>W</td>\n",
       "      <td>408</td>\n",
       "      <td>4</td>\n",
       "      <td>3</td>\n",
       "      <td>1000.0</td>\n",
       "      <td>A</td>\n",
       "    </tr>\n",
       "  </tbody>\n",
       "</table>\n",
       "<p>322 rows × 21 columns</p>\n",
       "</div>"
      ],
      "text/plain": [
       "            Unnamed: 0  AtBat  Hits  HmRun  Runs  RBI  Walks  Years  CAtBat  \\\n",
       "0       -Andy Allanson    293    66      1    30   29     14      1     293   \n",
       "1          -Alan Ashby    315    81      7    24   38     39     14    3449   \n",
       "2         -Alvin Davis    479   130     18    66   72     76      3    1624   \n",
       "3        -Andre Dawson    496   141     20    65   78     37     11    5628   \n",
       "4    -Andres Galarraga    321    87     10    39   42     30      2     396   \n",
       "..                 ...    ...   ...    ...   ...  ...    ...    ...     ...   \n",
       "317      -Willie McGee    497   127      7    65   48     37      5    2703   \n",
       "318   -Willie Randolph    492   136      5    76   50     94     12    5511   \n",
       "319    -Wayne Tolleson    475   126      3    61   43     52      6    1700   \n",
       "320     -Willie Upshaw    573   144      9    85   60     78      8    3198   \n",
       "321     -Willie Wilson    631   170      9    77   44     31     11    4908   \n",
       "\n",
       "     CHits  ...  CRuns  CRBI  CWalks  League Division PutOuts  Assists  \\\n",
       "0       66  ...     30    29      14       A        E     446       33   \n",
       "1      835  ...    321   414     375       N        W     632       43   \n",
       "2      457  ...    224   266     263       A        W     880       82   \n",
       "3     1575  ...    828   838     354       N        E     200       11   \n",
       "4      101  ...     48    46      33       N        E     805       40   \n",
       "..     ...  ...    ...   ...     ...     ...      ...     ...      ...   \n",
       "317    806  ...    379   311     138       N        E     325        9   \n",
       "318   1511  ...    897   451     875       A        E     313      381   \n",
       "319    433  ...    217    93     146       A        W      37      113   \n",
       "320    857  ...    470   420     332       A        E    1314      131   \n",
       "321   1457  ...    775   357     249       A        W     408        4   \n",
       "\n",
       "     Errors  Salary  NewLeague  \n",
       "0        20     NaN          A  \n",
       "1        10   475.0          N  \n",
       "2        14   480.0          A  \n",
       "3         3   500.0          N  \n",
       "4         4    91.5          N  \n",
       "..      ...     ...        ...  \n",
       "317       3   700.0          N  \n",
       "318      20   875.0          A  \n",
       "319       7   385.0          A  \n",
       "320      12   960.0          A  \n",
       "321       3  1000.0          A  \n",
       "\n",
       "[322 rows x 21 columns]"
      ]
     },
     "execution_count": 79,
     "metadata": {},
     "output_type": "execute_result"
    }
   ],
   "source": [
    "hitters"
   ]
  },
  {
   "cell_type": "code",
   "execution_count": 80,
   "metadata": {},
   "outputs": [
    {
     "name": "stdout",
     "output_type": "stream",
     "text": [
      "<class 'pandas.core.frame.DataFrame'>\n",
      "RangeIndex: 322 entries, 0 to 321\n",
      "Data columns (total 21 columns):\n",
      " #   Column      Non-Null Count  Dtype  \n",
      "---  ------      --------------  -----  \n",
      " 0   Unnamed: 0  322 non-null    object \n",
      " 1   AtBat       322 non-null    int64  \n",
      " 2   Hits        322 non-null    int64  \n",
      " 3   HmRun       322 non-null    int64  \n",
      " 4   Runs        322 non-null    int64  \n",
      " 5   RBI         322 non-null    int64  \n",
      " 6   Walks       322 non-null    int64  \n",
      " 7   Years       322 non-null    int64  \n",
      " 8   CAtBat      322 non-null    int64  \n",
      " 9   CHits       322 non-null    int64  \n",
      " 10  CHmRun      322 non-null    int64  \n",
      " 11  CRuns       322 non-null    int64  \n",
      " 12  CRBI        322 non-null    int64  \n",
      " 13  CWalks      322 non-null    int64  \n",
      " 14  League      322 non-null    object \n",
      " 15  Division    322 non-null    object \n",
      " 16  PutOuts     322 non-null    int64  \n",
      " 17  Assists     322 non-null    int64  \n",
      " 18  Errors      322 non-null    int64  \n",
      " 19  Salary      263 non-null    float64\n",
      " 20  NewLeague   322 non-null    object \n",
      "dtypes: float64(1), int64(16), object(4)\n",
      "memory usage: 53.0+ KB\n"
     ]
    }
   ],
   "source": [
    "hitters.info()"
   ]
  },
  {
   "cell_type": "markdown",
   "metadata": {},
   "source": [
    "Metoda set_index pozwala wybrać określoną kolumnę jako indeks (czyli nazwę wiersza) dla ramki danych. "
   ]
  },
  {
   "cell_type": "code",
   "execution_count": 85,
   "metadata": {},
   "outputs": [
    {
     "data": {
      "text/html": [
       "<div>\n",
       "<style scoped>\n",
       "    .dataframe tbody tr th:only-of-type {\n",
       "        vertical-align: middle;\n",
       "    }\n",
       "\n",
       "    .dataframe tbody tr th {\n",
       "        vertical-align: top;\n",
       "    }\n",
       "\n",
       "    .dataframe thead th {\n",
       "        text-align: right;\n",
       "    }\n",
       "</style>\n",
       "<table border=\"1\" class=\"dataframe\">\n",
       "  <thead>\n",
       "    <tr style=\"text-align: right;\">\n",
       "      <th></th>\n",
       "      <th>AtBat</th>\n",
       "      <th>Hits</th>\n",
       "      <th>HmRun</th>\n",
       "      <th>Runs</th>\n",
       "      <th>RBI</th>\n",
       "      <th>Walks</th>\n",
       "      <th>Years</th>\n",
       "      <th>CAtBat</th>\n",
       "      <th>CHits</th>\n",
       "      <th>CHmRun</th>\n",
       "      <th>CRuns</th>\n",
       "      <th>CRBI</th>\n",
       "      <th>CWalks</th>\n",
       "      <th>League</th>\n",
       "      <th>Division</th>\n",
       "      <th>PutOuts</th>\n",
       "      <th>Assists</th>\n",
       "      <th>Errors</th>\n",
       "      <th>Salary</th>\n",
       "      <th>NewLeague</th>\n",
       "    </tr>\n",
       "    <tr>\n",
       "      <th>Unnamed: 0</th>\n",
       "      <th></th>\n",
       "      <th></th>\n",
       "      <th></th>\n",
       "      <th></th>\n",
       "      <th></th>\n",
       "      <th></th>\n",
       "      <th></th>\n",
       "      <th></th>\n",
       "      <th></th>\n",
       "      <th></th>\n",
       "      <th></th>\n",
       "      <th></th>\n",
       "      <th></th>\n",
       "      <th></th>\n",
       "      <th></th>\n",
       "      <th></th>\n",
       "      <th></th>\n",
       "      <th></th>\n",
       "      <th></th>\n",
       "      <th></th>\n",
       "    </tr>\n",
       "  </thead>\n",
       "  <tbody>\n",
       "    <tr>\n",
       "      <th>-Andy Allanson</th>\n",
       "      <td>293</td>\n",
       "      <td>66</td>\n",
       "      <td>1</td>\n",
       "      <td>30</td>\n",
       "      <td>29</td>\n",
       "      <td>14</td>\n",
       "      <td>1</td>\n",
       "      <td>293</td>\n",
       "      <td>66</td>\n",
       "      <td>1</td>\n",
       "      <td>30</td>\n",
       "      <td>29</td>\n",
       "      <td>14</td>\n",
       "      <td>A</td>\n",
       "      <td>E</td>\n",
       "      <td>446</td>\n",
       "      <td>33</td>\n",
       "      <td>20</td>\n",
       "      <td>NaN</td>\n",
       "      <td>A</td>\n",
       "    </tr>\n",
       "    <tr>\n",
       "      <th>-Alan Ashby</th>\n",
       "      <td>315</td>\n",
       "      <td>81</td>\n",
       "      <td>7</td>\n",
       "      <td>24</td>\n",
       "      <td>38</td>\n",
       "      <td>39</td>\n",
       "      <td>14</td>\n",
       "      <td>3449</td>\n",
       "      <td>835</td>\n",
       "      <td>69</td>\n",
       "      <td>321</td>\n",
       "      <td>414</td>\n",
       "      <td>375</td>\n",
       "      <td>N</td>\n",
       "      <td>W</td>\n",
       "      <td>632</td>\n",
       "      <td>43</td>\n",
       "      <td>10</td>\n",
       "      <td>475.0</td>\n",
       "      <td>N</td>\n",
       "    </tr>\n",
       "    <tr>\n",
       "      <th>-Alvin Davis</th>\n",
       "      <td>479</td>\n",
       "      <td>130</td>\n",
       "      <td>18</td>\n",
       "      <td>66</td>\n",
       "      <td>72</td>\n",
       "      <td>76</td>\n",
       "      <td>3</td>\n",
       "      <td>1624</td>\n",
       "      <td>457</td>\n",
       "      <td>63</td>\n",
       "      <td>224</td>\n",
       "      <td>266</td>\n",
       "      <td>263</td>\n",
       "      <td>A</td>\n",
       "      <td>W</td>\n",
       "      <td>880</td>\n",
       "      <td>82</td>\n",
       "      <td>14</td>\n",
       "      <td>480.0</td>\n",
       "      <td>A</td>\n",
       "    </tr>\n",
       "    <tr>\n",
       "      <th>-Andre Dawson</th>\n",
       "      <td>496</td>\n",
       "      <td>141</td>\n",
       "      <td>20</td>\n",
       "      <td>65</td>\n",
       "      <td>78</td>\n",
       "      <td>37</td>\n",
       "      <td>11</td>\n",
       "      <td>5628</td>\n",
       "      <td>1575</td>\n",
       "      <td>225</td>\n",
       "      <td>828</td>\n",
       "      <td>838</td>\n",
       "      <td>354</td>\n",
       "      <td>N</td>\n",
       "      <td>E</td>\n",
       "      <td>200</td>\n",
       "      <td>11</td>\n",
       "      <td>3</td>\n",
       "      <td>500.0</td>\n",
       "      <td>N</td>\n",
       "    </tr>\n",
       "    <tr>\n",
       "      <th>-Andres Galarraga</th>\n",
       "      <td>321</td>\n",
       "      <td>87</td>\n",
       "      <td>10</td>\n",
       "      <td>39</td>\n",
       "      <td>42</td>\n",
       "      <td>30</td>\n",
       "      <td>2</td>\n",
       "      <td>396</td>\n",
       "      <td>101</td>\n",
       "      <td>12</td>\n",
       "      <td>48</td>\n",
       "      <td>46</td>\n",
       "      <td>33</td>\n",
       "      <td>N</td>\n",
       "      <td>E</td>\n",
       "      <td>805</td>\n",
       "      <td>40</td>\n",
       "      <td>4</td>\n",
       "      <td>91.5</td>\n",
       "      <td>N</td>\n",
       "    </tr>\n",
       "    <tr>\n",
       "      <th>...</th>\n",
       "      <td>...</td>\n",
       "      <td>...</td>\n",
       "      <td>...</td>\n",
       "      <td>...</td>\n",
       "      <td>...</td>\n",
       "      <td>...</td>\n",
       "      <td>...</td>\n",
       "      <td>...</td>\n",
       "      <td>...</td>\n",
       "      <td>...</td>\n",
       "      <td>...</td>\n",
       "      <td>...</td>\n",
       "      <td>...</td>\n",
       "      <td>...</td>\n",
       "      <td>...</td>\n",
       "      <td>...</td>\n",
       "      <td>...</td>\n",
       "      <td>...</td>\n",
       "      <td>...</td>\n",
       "      <td>...</td>\n",
       "    </tr>\n",
       "    <tr>\n",
       "      <th>-Willie McGee</th>\n",
       "      <td>497</td>\n",
       "      <td>127</td>\n",
       "      <td>7</td>\n",
       "      <td>65</td>\n",
       "      <td>48</td>\n",
       "      <td>37</td>\n",
       "      <td>5</td>\n",
       "      <td>2703</td>\n",
       "      <td>806</td>\n",
       "      <td>32</td>\n",
       "      <td>379</td>\n",
       "      <td>311</td>\n",
       "      <td>138</td>\n",
       "      <td>N</td>\n",
       "      <td>E</td>\n",
       "      <td>325</td>\n",
       "      <td>9</td>\n",
       "      <td>3</td>\n",
       "      <td>700.0</td>\n",
       "      <td>N</td>\n",
       "    </tr>\n",
       "    <tr>\n",
       "      <th>-Willie Randolph</th>\n",
       "      <td>492</td>\n",
       "      <td>136</td>\n",
       "      <td>5</td>\n",
       "      <td>76</td>\n",
       "      <td>50</td>\n",
       "      <td>94</td>\n",
       "      <td>12</td>\n",
       "      <td>5511</td>\n",
       "      <td>1511</td>\n",
       "      <td>39</td>\n",
       "      <td>897</td>\n",
       "      <td>451</td>\n",
       "      <td>875</td>\n",
       "      <td>A</td>\n",
       "      <td>E</td>\n",
       "      <td>313</td>\n",
       "      <td>381</td>\n",
       "      <td>20</td>\n",
       "      <td>875.0</td>\n",
       "      <td>A</td>\n",
       "    </tr>\n",
       "    <tr>\n",
       "      <th>-Wayne Tolleson</th>\n",
       "      <td>475</td>\n",
       "      <td>126</td>\n",
       "      <td>3</td>\n",
       "      <td>61</td>\n",
       "      <td>43</td>\n",
       "      <td>52</td>\n",
       "      <td>6</td>\n",
       "      <td>1700</td>\n",
       "      <td>433</td>\n",
       "      <td>7</td>\n",
       "      <td>217</td>\n",
       "      <td>93</td>\n",
       "      <td>146</td>\n",
       "      <td>A</td>\n",
       "      <td>W</td>\n",
       "      <td>37</td>\n",
       "      <td>113</td>\n",
       "      <td>7</td>\n",
       "      <td>385.0</td>\n",
       "      <td>A</td>\n",
       "    </tr>\n",
       "    <tr>\n",
       "      <th>-Willie Upshaw</th>\n",
       "      <td>573</td>\n",
       "      <td>144</td>\n",
       "      <td>9</td>\n",
       "      <td>85</td>\n",
       "      <td>60</td>\n",
       "      <td>78</td>\n",
       "      <td>8</td>\n",
       "      <td>3198</td>\n",
       "      <td>857</td>\n",
       "      <td>97</td>\n",
       "      <td>470</td>\n",
       "      <td>420</td>\n",
       "      <td>332</td>\n",
       "      <td>A</td>\n",
       "      <td>E</td>\n",
       "      <td>1314</td>\n",
       "      <td>131</td>\n",
       "      <td>12</td>\n",
       "      <td>960.0</td>\n",
       "      <td>A</td>\n",
       "    </tr>\n",
       "    <tr>\n",
       "      <th>-Willie Wilson</th>\n",
       "      <td>631</td>\n",
       "      <td>170</td>\n",
       "      <td>9</td>\n",
       "      <td>77</td>\n",
       "      <td>44</td>\n",
       "      <td>31</td>\n",
       "      <td>11</td>\n",
       "      <td>4908</td>\n",
       "      <td>1457</td>\n",
       "      <td>30</td>\n",
       "      <td>775</td>\n",
       "      <td>357</td>\n",
       "      <td>249</td>\n",
       "      <td>A</td>\n",
       "      <td>W</td>\n",
       "      <td>408</td>\n",
       "      <td>4</td>\n",
       "      <td>3</td>\n",
       "      <td>1000.0</td>\n",
       "      <td>A</td>\n",
       "    </tr>\n",
       "  </tbody>\n",
       "</table>\n",
       "<p>322 rows × 20 columns</p>\n",
       "</div>"
      ],
      "text/plain": [
       "                   AtBat  Hits  HmRun  Runs  RBI  Walks  Years  CAtBat  CHits  \\\n",
       "Unnamed: 0                                                                      \n",
       "-Andy Allanson       293    66      1    30   29     14      1     293     66   \n",
       "-Alan Ashby          315    81      7    24   38     39     14    3449    835   \n",
       "-Alvin Davis         479   130     18    66   72     76      3    1624    457   \n",
       "-Andre Dawson        496   141     20    65   78     37     11    5628   1575   \n",
       "-Andres Galarraga    321    87     10    39   42     30      2     396    101   \n",
       "...                  ...   ...    ...   ...  ...    ...    ...     ...    ...   \n",
       "-Willie McGee        497   127      7    65   48     37      5    2703    806   \n",
       "-Willie Randolph     492   136      5    76   50     94     12    5511   1511   \n",
       "-Wayne Tolleson      475   126      3    61   43     52      6    1700    433   \n",
       "-Willie Upshaw       573   144      9    85   60     78      8    3198    857   \n",
       "-Willie Wilson       631   170      9    77   44     31     11    4908   1457   \n",
       "\n",
       "                   CHmRun  CRuns  CRBI  CWalks League Division  PutOuts  \\\n",
       "Unnamed: 0                                                                \n",
       "-Andy Allanson          1     30    29      14      A        E      446   \n",
       "-Alan Ashby            69    321   414     375      N        W      632   \n",
       "-Alvin Davis           63    224   266     263      A        W      880   \n",
       "-Andre Dawson         225    828   838     354      N        E      200   \n",
       "-Andres Galarraga      12     48    46      33      N        E      805   \n",
       "...                   ...    ...   ...     ...    ...      ...      ...   \n",
       "-Willie McGee          32    379   311     138      N        E      325   \n",
       "-Willie Randolph       39    897   451     875      A        E      313   \n",
       "-Wayne Tolleson         7    217    93     146      A        W       37   \n",
       "-Willie Upshaw         97    470   420     332      A        E     1314   \n",
       "-Willie Wilson         30    775   357     249      A        W      408   \n",
       "\n",
       "                   Assists  Errors  Salary NewLeague  \n",
       "Unnamed: 0                                            \n",
       "-Andy Allanson          33      20     NaN         A  \n",
       "-Alan Ashby             43      10   475.0         N  \n",
       "-Alvin Davis            82      14   480.0         A  \n",
       "-Andre Dawson           11       3   500.0         N  \n",
       "-Andres Galarraga       40       4    91.5         N  \n",
       "...                    ...     ...     ...       ...  \n",
       "-Willie McGee            9       3   700.0         N  \n",
       "-Willie Randolph       381      20   875.0         A  \n",
       "-Wayne Tolleson        113       7   385.0         A  \n",
       "-Willie Upshaw         131      12   960.0         A  \n",
       "-Willie Wilson           4       3  1000.0         A  \n",
       "\n",
       "[322 rows x 20 columns]"
      ]
     },
     "execution_count": 85,
     "metadata": {},
     "output_type": "execute_result"
    }
   ],
   "source": [
    "hitters.set_index('Unnamed: 0')"
   ]
  },
  {
   "cell_type": "markdown",
   "metadata": {},
   "source": [
    "Kolumna z nazwiskami nie jest interesująca z punktu widzenia modelowania statystycznego. Usunięcię określonej kolumny można osiągnąć przez metodę drop."
   ]
  },
  {
   "cell_type": "code",
   "execution_count": 87,
   "metadata": {},
   "outputs": [],
   "source": [
    "hitters=hitters.drop('Unnamed: 0',axis=1)"
   ]
  },
  {
   "cell_type": "code",
   "execution_count": 88,
   "metadata": {},
   "outputs": [
    {
     "name": "stdout",
     "output_type": "stream",
     "text": [
      "<class 'pandas.core.frame.DataFrame'>\n",
      "RangeIndex: 322 entries, 0 to 321\n",
      "Data columns (total 20 columns):\n",
      " #   Column     Non-Null Count  Dtype  \n",
      "---  ------     --------------  -----  \n",
      " 0   AtBat      322 non-null    int64  \n",
      " 1   Hits       322 non-null    int64  \n",
      " 2   HmRun      322 non-null    int64  \n",
      " 3   Runs       322 non-null    int64  \n",
      " 4   RBI        322 non-null    int64  \n",
      " 5   Walks      322 non-null    int64  \n",
      " 6   Years      322 non-null    int64  \n",
      " 7   CAtBat     322 non-null    int64  \n",
      " 8   CHits      322 non-null    int64  \n",
      " 9   CHmRun     322 non-null    int64  \n",
      " 10  CRuns      322 non-null    int64  \n",
      " 11  CRBI       322 non-null    int64  \n",
      " 12  CWalks     322 non-null    int64  \n",
      " 13  League     322 non-null    object \n",
      " 14  Division   322 non-null    object \n",
      " 15  PutOuts    322 non-null    int64  \n",
      " 16  Assists    322 non-null    int64  \n",
      " 17  Errors     322 non-null    int64  \n",
      " 18  Salary     263 non-null    float64\n",
      " 19  NewLeague  322 non-null    object \n",
      "dtypes: float64(1), int64(16), object(3)\n",
      "memory usage: 50.4+ KB\n"
     ]
    }
   ],
   "source": [
    "hitters.info()"
   ]
  },
  {
   "cell_type": "markdown",
   "metadata": {},
   "source": [
    "Jak możemy zauważyć po metodzie info, kolumna Salary zawiera kilkadziesiąt braków danych. Możliwe działanie jakie możemy wykonać z tym problemem to: \n",
    "* Usunięcie obserwacji zawierających braki danych\n",
    "* Wypełnienie braków danych"
   ]
  },
  {
   "cell_type": "code",
   "execution_count": 90,
   "metadata": {},
   "outputs": [
    {
     "name": "stdout",
     "output_type": "stream",
     "text": [
      "<class 'pandas.core.frame.DataFrame'>\n",
      "Int64Index: 263 entries, 1 to 321\n",
      "Data columns (total 20 columns):\n",
      " #   Column     Non-Null Count  Dtype  \n",
      "---  ------     --------------  -----  \n",
      " 0   AtBat      263 non-null    int64  \n",
      " 1   Hits       263 non-null    int64  \n",
      " 2   HmRun      263 non-null    int64  \n",
      " 3   Runs       263 non-null    int64  \n",
      " 4   RBI        263 non-null    int64  \n",
      " 5   Walks      263 non-null    int64  \n",
      " 6   Years      263 non-null    int64  \n",
      " 7   CAtBat     263 non-null    int64  \n",
      " 8   CHits      263 non-null    int64  \n",
      " 9   CHmRun     263 non-null    int64  \n",
      " 10  CRuns      263 non-null    int64  \n",
      " 11  CRBI       263 non-null    int64  \n",
      " 12  CWalks     263 non-null    int64  \n",
      " 13  League     263 non-null    object \n",
      " 14  Division   263 non-null    object \n",
      " 15  PutOuts    263 non-null    int64  \n",
      " 16  Assists    263 non-null    int64  \n",
      " 17  Errors     263 non-null    int64  \n",
      " 18  Salary     263 non-null    float64\n",
      " 19  NewLeague  263 non-null    object \n",
      "dtypes: float64(1), int64(16), object(3)\n",
      "memory usage: 43.1+ KB\n"
     ]
    }
   ],
   "source": [
    "hitters.dropna().info()"
   ]
  },
  {
   "cell_type": "markdown",
   "metadata": {},
   "source": [
    "Uzupełnienie braków danych za pomocą metody fillna możliwe jest o:\n",
    "* określoną wartość\n",
    "* następną wypełnioną wartość\n",
    "* ostatnią wypełnioną wartość"
   ]
  },
  {
   "cell_type": "code",
   "execution_count": 93,
   "metadata": {},
   "outputs": [
    {
     "name": "stdout",
     "output_type": "stream",
     "text": [
      "<class 'pandas.core.frame.DataFrame'>\n",
      "RangeIndex: 322 entries, 0 to 321\n",
      "Data columns (total 20 columns):\n",
      " #   Column     Non-Null Count  Dtype  \n",
      "---  ------     --------------  -----  \n",
      " 0   AtBat      322 non-null    int64  \n",
      " 1   Hits       322 non-null    int64  \n",
      " 2   HmRun      322 non-null    int64  \n",
      " 3   Runs       322 non-null    int64  \n",
      " 4   RBI        322 non-null    int64  \n",
      " 5   Walks      322 non-null    int64  \n",
      " 6   Years      322 non-null    int64  \n",
      " 7   CAtBat     322 non-null    int64  \n",
      " 8   CHits      322 non-null    int64  \n",
      " 9   CHmRun     322 non-null    int64  \n",
      " 10  CRuns      322 non-null    int64  \n",
      " 11  CRBI       322 non-null    int64  \n",
      " 12  CWalks     322 non-null    int64  \n",
      " 13  League     322 non-null    object \n",
      " 14  Division   322 non-null    object \n",
      " 15  PutOuts    322 non-null    int64  \n",
      " 16  Assists    322 non-null    int64  \n",
      " 17  Errors     322 non-null    int64  \n",
      " 18  Salary     322 non-null    float64\n",
      " 19  NewLeague  322 non-null    object \n",
      "dtypes: float64(1), int64(16), object(3)\n",
      "memory usage: 50.4+ KB\n"
     ]
    }
   ],
   "source": [
    "hitters.fillna(hitters.Salary.mean()).info()"
   ]
  },
  {
   "cell_type": "code",
   "execution_count": 94,
   "metadata": {},
   "outputs": [
    {
     "name": "stdout",
     "output_type": "stream",
     "text": [
      "<class 'pandas.core.frame.DataFrame'>\n",
      "RangeIndex: 322 entries, 0 to 321\n",
      "Data columns (total 20 columns):\n",
      " #   Column     Non-Null Count  Dtype  \n",
      "---  ------     --------------  -----  \n",
      " 0   AtBat      322 non-null    int64  \n",
      " 1   Hits       322 non-null    int64  \n",
      " 2   HmRun      322 non-null    int64  \n",
      " 3   Runs       322 non-null    int64  \n",
      " 4   RBI        322 non-null    int64  \n",
      " 5   Walks      322 non-null    int64  \n",
      " 6   Years      322 non-null    int64  \n",
      " 7   CAtBat     322 non-null    int64  \n",
      " 8   CHits      322 non-null    int64  \n",
      " 9   CHmRun     322 non-null    int64  \n",
      " 10  CRuns      322 non-null    int64  \n",
      " 11  CRBI       322 non-null    int64  \n",
      " 12  CWalks     322 non-null    int64  \n",
      " 13  League     322 non-null    object \n",
      " 14  Division   322 non-null    object \n",
      " 15  PutOuts    322 non-null    int64  \n",
      " 16  Assists    322 non-null    int64  \n",
      " 17  Errors     322 non-null    int64  \n",
      " 18  Salary     321 non-null    float64\n",
      " 19  NewLeague  322 non-null    object \n",
      "dtypes: float64(1), int64(16), object(3)\n",
      "memory usage: 50.4+ KB\n"
     ]
    }
   ],
   "source": [
    "hitters.fillna(method='ffill').info()"
   ]
  },
  {
   "cell_type": "markdown",
   "metadata": {},
   "source": [
    "Ustawiając argumentu inplace=True podmieniamy określoną ramkę danych na nową."
   ]
  },
  {
   "cell_type": "code",
   "execution_count": 95,
   "metadata": {},
   "outputs": [],
   "source": [
    "hitters.dropna(inplace=True)"
   ]
  },
  {
   "cell_type": "code",
   "execution_count": 96,
   "metadata": {},
   "outputs": [
    {
     "name": "stdout",
     "output_type": "stream",
     "text": [
      "<class 'pandas.core.frame.DataFrame'>\n",
      "Int64Index: 263 entries, 1 to 321\n",
      "Data columns (total 20 columns):\n",
      " #   Column     Non-Null Count  Dtype  \n",
      "---  ------     --------------  -----  \n",
      " 0   AtBat      263 non-null    int64  \n",
      " 1   Hits       263 non-null    int64  \n",
      " 2   HmRun      263 non-null    int64  \n",
      " 3   Runs       263 non-null    int64  \n",
      " 4   RBI        263 non-null    int64  \n",
      " 5   Walks      263 non-null    int64  \n",
      " 6   Years      263 non-null    int64  \n",
      " 7   CAtBat     263 non-null    int64  \n",
      " 8   CHits      263 non-null    int64  \n",
      " 9   CHmRun     263 non-null    int64  \n",
      " 10  CRuns      263 non-null    int64  \n",
      " 11  CRBI       263 non-null    int64  \n",
      " 12  CWalks     263 non-null    int64  \n",
      " 13  League     263 non-null    object \n",
      " 14  Division   263 non-null    object \n",
      " 15  PutOuts    263 non-null    int64  \n",
      " 16  Assists    263 non-null    int64  \n",
      " 17  Errors     263 non-null    int64  \n",
      " 18  Salary     263 non-null    float64\n",
      " 19  NewLeague  263 non-null    object \n",
      "dtypes: float64(1), int64(16), object(3)\n",
      "memory usage: 43.1+ KB\n"
     ]
    }
   ],
   "source": [
    "hitters.info()"
   ]
  },
  {
   "cell_type": "markdown",
   "metadata": {},
   "source": [
    "Wytworzenie kolumny zero-jedynkowej informującej o tym czy dany zawodnik miał pensję powyżej mediany."
   ]
  },
  {
   "cell_type": "code",
   "execution_count": 97,
   "metadata": {},
   "outputs": [],
   "source": [
    "mediana=hitters['Salary'].median()\n",
    "hitters['Salaryovermedian']=(hitters['Salary']>mediana).astype('int')"
   ]
  },
  {
   "cell_type": "code",
   "execution_count": 98,
   "metadata": {},
   "outputs": [
    {
     "data": {
      "text/plain": [
       "1      1\n",
       "2      1\n",
       "3      1\n",
       "4      0\n",
       "5      1\n",
       "      ..\n",
       "317    1\n",
       "318    1\n",
       "319    0\n",
       "320    1\n",
       "321    1\n",
       "Name: Salaryovermedian, Length: 263, dtype: int32"
      ]
     },
     "execution_count": 98,
     "metadata": {},
     "output_type": "execute_result"
    }
   ],
   "source": [
    "hitters['Salaryovermedian']"
   ]
  },
  {
   "cell_type": "markdown",
   "metadata": {},
   "source": [
    "W celu obliczenia zagregowanej miary dla określonej kolumny zgrupowanej po innej mierze należy skorzystać z DataFrame.groupby(nazwa_kolumny_grupującej).nazwa_kolumny_agregowanej.statystyka. Poniższy przykład jest ekwiwalentem SQL-owego:\n",
    "SELECT AVG(Salaryovermedian)\n",
    "FROM hitters\n",
    "GROUP BY League"
   ]
  },
  {
   "cell_type": "code",
   "execution_count": 99,
   "metadata": {},
   "outputs": [
    {
     "data": {
      "text/plain": [
       "League\n",
       "A    0.474820\n",
       "N    0.508065\n",
       "Name: Salaryovermedian, dtype: float64"
      ]
     },
     "execution_count": 99,
     "metadata": {},
     "output_type": "execute_result"
    }
   ],
   "source": [
    "hitters.groupby('League').Salaryovermedian.mean()"
   ]
  },
  {
   "cell_type": "markdown",
   "metadata": {},
   "source": [
    "W celu zobaczenia statystyk dla kilku kolumn istnieje możliwość iteracji po nich."
   ]
  },
  {
   "cell_type": "code",
   "execution_count": 101,
   "metadata": {},
   "outputs": [
    {
     "name": "stdout",
     "output_type": "stream",
     "text": [
      "League\n",
      "A    0.474820\n",
      "N    0.508065\n",
      "Name: Salaryovermedian, dtype: float64\n",
      "Division\n",
      "E    0.542636\n",
      "W    0.440299\n",
      "Name: Salaryovermedian, dtype: float64\n",
      "NewLeague\n",
      "A    0.460993\n",
      "N    0.524590\n",
      "Name: Salaryovermedian, dtype: float64\n"
     ]
    }
   ],
   "source": [
    "for column in ['League','Division','NewLeague']:\n",
    "    print(hitters.groupby(column).Salaryovermedian.mean())"
   ]
  },
  {
   "cell_type": "code",
   "execution_count": 102,
   "metadata": {},
   "outputs": [
    {
     "data": {
      "text/plain": [
       "League  Division  NewLeague\n",
       "A       E         A            0.546875\n",
       "                  N            1.000000\n",
       "        W         A            0.388060\n",
       "                  N            0.250000\n",
       "N       E         A            0.600000\n",
       "                  N            0.500000\n",
       "        W         A            0.200000\n",
       "                  N            0.534483\n",
       "Name: Salaryovermedian, dtype: float64"
      ]
     },
     "execution_count": 102,
     "metadata": {},
     "output_type": "execute_result"
    }
   ],
   "source": [
    "hitters.groupby(['League','Division','NewLeague']).Salaryovermedian.mean()"
   ]
  },
  {
   "cell_type": "markdown",
   "metadata": {},
   "source": [
    "Oprócz iterowania po konkretnych nazwach kolumn istnieje również możliwość wykorzystania instrukcji warunkowej na podstawie typu kolumny w celu wyświetlenia zagregowanych statystyk według określonych kolumn."
   ]
  },
  {
   "cell_type": "code",
   "execution_count": 103,
   "metadata": {},
   "outputs": [
    {
     "name": "stdout",
     "output_type": "stream",
     "text": [
      "League\n",
      "A    0.474820\n",
      "N    0.508065\n",
      "Name: Salaryovermedian, dtype: float64\n",
      "Division\n",
      "E    0.542636\n",
      "W    0.440299\n",
      "Name: Salaryovermedian, dtype: float64\n",
      "NewLeague\n",
      "A    0.460993\n",
      "N    0.524590\n",
      "Name: Salaryovermedian, dtype: float64\n"
     ]
    }
   ],
   "source": [
    "for column in hitters.columns:\n",
    "    if hitters[column].dtypes==np.object:\n",
    "        print(hitters.groupby(column).Salaryovermedian.mean())"
   ]
  },
  {
   "cell_type": "markdown",
   "metadata": {},
   "source": [
    "Obliczenie korelacji między zmiennymi możliwe jest przez użycie funkcji Numpy corrcoef lub metody Pandas DataFrame.corr(). Druga opcja pozwala wyświetlić macierz korelacji wszystkich zmiennych numerycznych. Korelacja może przyjmować wartości z przedziału -1 do 1, gdzie -1 oznacza silną korelację ujemną, a 1 silną korelację dodatnią. Im wyższa wartość bezwzględna tym silniejsza korelacja."
   ]
  },
  {
   "cell_type": "code",
   "execution_count": 105,
   "metadata": {},
   "outputs": [
    {
     "data": {
      "text/plain": [
       "0.06733257684136892"
      ]
     },
     "execution_count": 105,
     "metadata": {},
     "output_type": "execute_result"
    }
   ],
   "source": [
    "np.corrcoef(hitters['Salaryovermedian'],hitters['Assists'])[0,1]"
   ]
  },
  {
   "cell_type": "code",
   "execution_count": 106,
   "metadata": {},
   "outputs": [
    {
     "data": {
      "text/html": [
       "<div>\n",
       "<style scoped>\n",
       "    .dataframe tbody tr th:only-of-type {\n",
       "        vertical-align: middle;\n",
       "    }\n",
       "\n",
       "    .dataframe tbody tr th {\n",
       "        vertical-align: top;\n",
       "    }\n",
       "\n",
       "    .dataframe thead th {\n",
       "        text-align: right;\n",
       "    }\n",
       "</style>\n",
       "<table border=\"1\" class=\"dataframe\">\n",
       "  <thead>\n",
       "    <tr style=\"text-align: right;\">\n",
       "      <th></th>\n",
       "      <th>AtBat</th>\n",
       "      <th>Hits</th>\n",
       "      <th>HmRun</th>\n",
       "      <th>Runs</th>\n",
       "      <th>RBI</th>\n",
       "      <th>Walks</th>\n",
       "      <th>Years</th>\n",
       "      <th>CAtBat</th>\n",
       "      <th>CHits</th>\n",
       "      <th>CHmRun</th>\n",
       "      <th>CRuns</th>\n",
       "      <th>CRBI</th>\n",
       "      <th>CWalks</th>\n",
       "      <th>PutOuts</th>\n",
       "      <th>Assists</th>\n",
       "      <th>Errors</th>\n",
       "      <th>Salary</th>\n",
       "      <th>Salaryovermedian</th>\n",
       "    </tr>\n",
       "  </thead>\n",
       "  <tbody>\n",
       "    <tr>\n",
       "      <th>AtBat</th>\n",
       "      <td>1.000000</td>\n",
       "      <td>0.963969</td>\n",
       "      <td>0.555102</td>\n",
       "      <td>0.899829</td>\n",
       "      <td>0.796015</td>\n",
       "      <td>0.624448</td>\n",
       "      <td>0.012725</td>\n",
       "      <td>0.207166</td>\n",
       "      <td>0.225341</td>\n",
       "      <td>0.212422</td>\n",
       "      <td>0.237278</td>\n",
       "      <td>0.221393</td>\n",
       "      <td>0.132926</td>\n",
       "      <td>0.309607</td>\n",
       "      <td>0.342117</td>\n",
       "      <td>0.325577</td>\n",
       "      <td>0.394771</td>\n",
       "      <td>0.380854</td>\n",
       "    </tr>\n",
       "    <tr>\n",
       "      <th>Hits</th>\n",
       "      <td>0.963969</td>\n",
       "      <td>1.000000</td>\n",
       "      <td>0.530627</td>\n",
       "      <td>0.910630</td>\n",
       "      <td>0.788478</td>\n",
       "      <td>0.587311</td>\n",
       "      <td>0.018598</td>\n",
       "      <td>0.206678</td>\n",
       "      <td>0.235606</td>\n",
       "      <td>0.189364</td>\n",
       "      <td>0.238896</td>\n",
       "      <td>0.219384</td>\n",
       "      <td>0.122971</td>\n",
       "      <td>0.299688</td>\n",
       "      <td>0.303975</td>\n",
       "      <td>0.279876</td>\n",
       "      <td>0.438675</td>\n",
       "      <td>0.415270</td>\n",
       "    </tr>\n",
       "    <tr>\n",
       "      <th>HmRun</th>\n",
       "      <td>0.555102</td>\n",
       "      <td>0.530627</td>\n",
       "      <td>1.000000</td>\n",
       "      <td>0.631076</td>\n",
       "      <td>0.849107</td>\n",
       "      <td>0.440454</td>\n",
       "      <td>0.113488</td>\n",
       "      <td>0.217464</td>\n",
       "      <td>0.217496</td>\n",
       "      <td>0.492526</td>\n",
       "      <td>0.258347</td>\n",
       "      <td>0.349858</td>\n",
       "      <td>0.227183</td>\n",
       "      <td>0.250931</td>\n",
       "      <td>-0.161602</td>\n",
       "      <td>-0.009743</td>\n",
       "      <td>0.343028</td>\n",
       "      <td>0.264584</td>\n",
       "    </tr>\n",
       "    <tr>\n",
       "      <th>Runs</th>\n",
       "      <td>0.899829</td>\n",
       "      <td>0.910630</td>\n",
       "      <td>0.631076</td>\n",
       "      <td>1.000000</td>\n",
       "      <td>0.778692</td>\n",
       "      <td>0.697015</td>\n",
       "      <td>-0.011975</td>\n",
       "      <td>0.171811</td>\n",
       "      <td>0.191327</td>\n",
       "      <td>0.229701</td>\n",
       "      <td>0.237831</td>\n",
       "      <td>0.202335</td>\n",
       "      <td>0.163700</td>\n",
       "      <td>0.271160</td>\n",
       "      <td>0.179258</td>\n",
       "      <td>0.192609</td>\n",
       "      <td>0.419859</td>\n",
       "      <td>0.358009</td>\n",
       "    </tr>\n",
       "    <tr>\n",
       "      <th>RBI</th>\n",
       "      <td>0.796015</td>\n",
       "      <td>0.788478</td>\n",
       "      <td>0.849107</td>\n",
       "      <td>0.778692</td>\n",
       "      <td>1.000000</td>\n",
       "      <td>0.569505</td>\n",
       "      <td>0.129668</td>\n",
       "      <td>0.278126</td>\n",
       "      <td>0.292137</td>\n",
       "      <td>0.442190</td>\n",
       "      <td>0.307226</td>\n",
       "      <td>0.387777</td>\n",
       "      <td>0.233619</td>\n",
       "      <td>0.312065</td>\n",
       "      <td>0.062902</td>\n",
       "      <td>0.150155</td>\n",
       "      <td>0.449457</td>\n",
       "      <td>0.371919</td>\n",
       "    </tr>\n",
       "    <tr>\n",
       "      <th>Walks</th>\n",
       "      <td>0.624448</td>\n",
       "      <td>0.587311</td>\n",
       "      <td>0.440454</td>\n",
       "      <td>0.697015</td>\n",
       "      <td>0.569505</td>\n",
       "      <td>1.000000</td>\n",
       "      <td>0.134793</td>\n",
       "      <td>0.269450</td>\n",
       "      <td>0.270795</td>\n",
       "      <td>0.349582</td>\n",
       "      <td>0.332977</td>\n",
       "      <td>0.312697</td>\n",
       "      <td>0.429140</td>\n",
       "      <td>0.280855</td>\n",
       "      <td>0.102523</td>\n",
       "      <td>0.081937</td>\n",
       "      <td>0.443867</td>\n",
       "      <td>0.385367</td>\n",
       "    </tr>\n",
       "    <tr>\n",
       "      <th>Years</th>\n",
       "      <td>0.012725</td>\n",
       "      <td>0.018598</td>\n",
       "      <td>0.113488</td>\n",
       "      <td>-0.011975</td>\n",
       "      <td>0.129668</td>\n",
       "      <td>0.134793</td>\n",
       "      <td>1.000000</td>\n",
       "      <td>0.915681</td>\n",
       "      <td>0.897844</td>\n",
       "      <td>0.722371</td>\n",
       "      <td>0.876649</td>\n",
       "      <td>0.863809</td>\n",
       "      <td>0.837524</td>\n",
       "      <td>-0.020019</td>\n",
       "      <td>-0.085118</td>\n",
       "      <td>-0.156512</td>\n",
       "      <td>0.400657</td>\n",
       "      <td>0.465433</td>\n",
       "    </tr>\n",
       "    <tr>\n",
       "      <th>CAtBat</th>\n",
       "      <td>0.207166</td>\n",
       "      <td>0.206678</td>\n",
       "      <td>0.217464</td>\n",
       "      <td>0.171811</td>\n",
       "      <td>0.278126</td>\n",
       "      <td>0.269450</td>\n",
       "      <td>0.915681</td>\n",
       "      <td>1.000000</td>\n",
       "      <td>0.995057</td>\n",
       "      <td>0.801676</td>\n",
       "      <td>0.982747</td>\n",
       "      <td>0.950730</td>\n",
       "      <td>0.906712</td>\n",
       "      <td>0.053393</td>\n",
       "      <td>-0.007897</td>\n",
       "      <td>-0.070478</td>\n",
       "      <td>0.526135</td>\n",
       "      <td>0.560822</td>\n",
       "    </tr>\n",
       "    <tr>\n",
       "      <th>CHits</th>\n",
       "      <td>0.225341</td>\n",
       "      <td>0.235606</td>\n",
       "      <td>0.217496</td>\n",
       "      <td>0.191327</td>\n",
       "      <td>0.292137</td>\n",
       "      <td>0.270795</td>\n",
       "      <td>0.897844</td>\n",
       "      <td>0.995057</td>\n",
       "      <td>1.000000</td>\n",
       "      <td>0.786652</td>\n",
       "      <td>0.984542</td>\n",
       "      <td>0.946797</td>\n",
       "      <td>0.890718</td>\n",
       "      <td>0.067348</td>\n",
       "      <td>-0.013144</td>\n",
       "      <td>-0.068036</td>\n",
       "      <td>0.548910</td>\n",
       "      <td>0.570980</td>\n",
       "    </tr>\n",
       "    <tr>\n",
       "      <th>CHmRun</th>\n",
       "      <td>0.212422</td>\n",
       "      <td>0.189364</td>\n",
       "      <td>0.492526</td>\n",
       "      <td>0.229701</td>\n",
       "      <td>0.442190</td>\n",
       "      <td>0.349582</td>\n",
       "      <td>0.722371</td>\n",
       "      <td>0.801676</td>\n",
       "      <td>0.786652</td>\n",
       "      <td>1.000000</td>\n",
       "      <td>0.825625</td>\n",
       "      <td>0.927903</td>\n",
       "      <td>0.810878</td>\n",
       "      <td>0.093822</td>\n",
       "      <td>-0.188886</td>\n",
       "      <td>-0.165369</td>\n",
       "      <td>0.524931</td>\n",
       "      <td>0.465685</td>\n",
       "    </tr>\n",
       "    <tr>\n",
       "      <th>CRuns</th>\n",
       "      <td>0.237278</td>\n",
       "      <td>0.238896</td>\n",
       "      <td>0.258347</td>\n",
       "      <td>0.237831</td>\n",
       "      <td>0.307226</td>\n",
       "      <td>0.332977</td>\n",
       "      <td>0.876649</td>\n",
       "      <td>0.982747</td>\n",
       "      <td>0.984542</td>\n",
       "      <td>0.825625</td>\n",
       "      <td>1.000000</td>\n",
       "      <td>0.945677</td>\n",
       "      <td>0.927768</td>\n",
       "      <td>0.059087</td>\n",
       "      <td>-0.038895</td>\n",
       "      <td>-0.094081</td>\n",
       "      <td>0.562678</td>\n",
       "      <td>0.568051</td>\n",
       "    </tr>\n",
       "    <tr>\n",
       "      <th>CRBI</th>\n",
       "      <td>0.221393</td>\n",
       "      <td>0.219384</td>\n",
       "      <td>0.349858</td>\n",
       "      <td>0.202335</td>\n",
       "      <td>0.387777</td>\n",
       "      <td>0.312697</td>\n",
       "      <td>0.863809</td>\n",
       "      <td>0.950730</td>\n",
       "      <td>0.946797</td>\n",
       "      <td>0.927903</td>\n",
       "      <td>0.945677</td>\n",
       "      <td>1.000000</td>\n",
       "      <td>0.889137</td>\n",
       "      <td>0.095375</td>\n",
       "      <td>-0.096559</td>\n",
       "      <td>-0.115316</td>\n",
       "      <td>0.566966</td>\n",
       "      <td>0.545268</td>\n",
       "    </tr>\n",
       "    <tr>\n",
       "      <th>CWalks</th>\n",
       "      <td>0.132926</td>\n",
       "      <td>0.122971</td>\n",
       "      <td>0.227183</td>\n",
       "      <td>0.163700</td>\n",
       "      <td>0.233619</td>\n",
       "      <td>0.429140</td>\n",
       "      <td>0.837524</td>\n",
       "      <td>0.906712</td>\n",
       "      <td>0.890718</td>\n",
       "      <td>0.810878</td>\n",
       "      <td>0.927768</td>\n",
       "      <td>0.889137</td>\n",
       "      <td>1.000000</td>\n",
       "      <td>0.058160</td>\n",
       "      <td>-0.066243</td>\n",
       "      <td>-0.129936</td>\n",
       "      <td>0.489822</td>\n",
       "      <td>0.497465</td>\n",
       "    </tr>\n",
       "    <tr>\n",
       "      <th>PutOuts</th>\n",
       "      <td>0.309607</td>\n",
       "      <td>0.299688</td>\n",
       "      <td>0.250931</td>\n",
       "      <td>0.271160</td>\n",
       "      <td>0.312065</td>\n",
       "      <td>0.280855</td>\n",
       "      <td>-0.020019</td>\n",
       "      <td>0.053393</td>\n",
       "      <td>0.067348</td>\n",
       "      <td>0.093822</td>\n",
       "      <td>0.059087</td>\n",
       "      <td>0.095375</td>\n",
       "      <td>0.058160</td>\n",
       "      <td>1.000000</td>\n",
       "      <td>-0.043390</td>\n",
       "      <td>0.075306</td>\n",
       "      <td>0.300480</td>\n",
       "      <td>0.199519</td>\n",
       "    </tr>\n",
       "    <tr>\n",
       "      <th>Assists</th>\n",
       "      <td>0.342117</td>\n",
       "      <td>0.303975</td>\n",
       "      <td>-0.161602</td>\n",
       "      <td>0.179258</td>\n",
       "      <td>0.062902</td>\n",
       "      <td>0.102523</td>\n",
       "      <td>-0.085118</td>\n",
       "      <td>-0.007897</td>\n",
       "      <td>-0.013144</td>\n",
       "      <td>-0.188886</td>\n",
       "      <td>-0.038895</td>\n",
       "      <td>-0.096559</td>\n",
       "      <td>-0.066243</td>\n",
       "      <td>-0.043390</td>\n",
       "      <td>1.000000</td>\n",
       "      <td>0.703505</td>\n",
       "      <td>0.025436</td>\n",
       "      <td>0.067333</td>\n",
       "    </tr>\n",
       "    <tr>\n",
       "      <th>Errors</th>\n",
       "      <td>0.325577</td>\n",
       "      <td>0.279876</td>\n",
       "      <td>-0.009743</td>\n",
       "      <td>0.192609</td>\n",
       "      <td>0.150155</td>\n",
       "      <td>0.081937</td>\n",
       "      <td>-0.156512</td>\n",
       "      <td>-0.070478</td>\n",
       "      <td>-0.068036</td>\n",
       "      <td>-0.165369</td>\n",
       "      <td>-0.094081</td>\n",
       "      <td>-0.115316</td>\n",
       "      <td>-0.129936</td>\n",
       "      <td>0.075306</td>\n",
       "      <td>0.703505</td>\n",
       "      <td>1.000000</td>\n",
       "      <td>-0.005401</td>\n",
       "      <td>0.030547</td>\n",
       "    </tr>\n",
       "    <tr>\n",
       "      <th>Salary</th>\n",
       "      <td>0.394771</td>\n",
       "      <td>0.438675</td>\n",
       "      <td>0.343028</td>\n",
       "      <td>0.419859</td>\n",
       "      <td>0.449457</td>\n",
       "      <td>0.443867</td>\n",
       "      <td>0.400657</td>\n",
       "      <td>0.526135</td>\n",
       "      <td>0.548910</td>\n",
       "      <td>0.524931</td>\n",
       "      <td>0.562678</td>\n",
       "      <td>0.566966</td>\n",
       "      <td>0.489822</td>\n",
       "      <td>0.300480</td>\n",
       "      <td>0.025436</td>\n",
       "      <td>-0.005401</td>\n",
       "      <td>1.000000</td>\n",
       "      <td>0.743215</td>\n",
       "    </tr>\n",
       "    <tr>\n",
       "      <th>Salaryovermedian</th>\n",
       "      <td>0.380854</td>\n",
       "      <td>0.415270</td>\n",
       "      <td>0.264584</td>\n",
       "      <td>0.358009</td>\n",
       "      <td>0.371919</td>\n",
       "      <td>0.385367</td>\n",
       "      <td>0.465433</td>\n",
       "      <td>0.560822</td>\n",
       "      <td>0.570980</td>\n",
       "      <td>0.465685</td>\n",
       "      <td>0.568051</td>\n",
       "      <td>0.545268</td>\n",
       "      <td>0.497465</td>\n",
       "      <td>0.199519</td>\n",
       "      <td>0.067333</td>\n",
       "      <td>0.030547</td>\n",
       "      <td>0.743215</td>\n",
       "      <td>1.000000</td>\n",
       "    </tr>\n",
       "  </tbody>\n",
       "</table>\n",
       "</div>"
      ],
      "text/plain": [
       "                     AtBat      Hits     HmRun      Runs       RBI     Walks  \\\n",
       "AtBat             1.000000  0.963969  0.555102  0.899829  0.796015  0.624448   \n",
       "Hits              0.963969  1.000000  0.530627  0.910630  0.788478  0.587311   \n",
       "HmRun             0.555102  0.530627  1.000000  0.631076  0.849107  0.440454   \n",
       "Runs              0.899829  0.910630  0.631076  1.000000  0.778692  0.697015   \n",
       "RBI               0.796015  0.788478  0.849107  0.778692  1.000000  0.569505   \n",
       "Walks             0.624448  0.587311  0.440454  0.697015  0.569505  1.000000   \n",
       "Years             0.012725  0.018598  0.113488 -0.011975  0.129668  0.134793   \n",
       "CAtBat            0.207166  0.206678  0.217464  0.171811  0.278126  0.269450   \n",
       "CHits             0.225341  0.235606  0.217496  0.191327  0.292137  0.270795   \n",
       "CHmRun            0.212422  0.189364  0.492526  0.229701  0.442190  0.349582   \n",
       "CRuns             0.237278  0.238896  0.258347  0.237831  0.307226  0.332977   \n",
       "CRBI              0.221393  0.219384  0.349858  0.202335  0.387777  0.312697   \n",
       "CWalks            0.132926  0.122971  0.227183  0.163700  0.233619  0.429140   \n",
       "PutOuts           0.309607  0.299688  0.250931  0.271160  0.312065  0.280855   \n",
       "Assists           0.342117  0.303975 -0.161602  0.179258  0.062902  0.102523   \n",
       "Errors            0.325577  0.279876 -0.009743  0.192609  0.150155  0.081937   \n",
       "Salary            0.394771  0.438675  0.343028  0.419859  0.449457  0.443867   \n",
       "Salaryovermedian  0.380854  0.415270  0.264584  0.358009  0.371919  0.385367   \n",
       "\n",
       "                     Years    CAtBat     CHits    CHmRun     CRuns      CRBI  \\\n",
       "AtBat             0.012725  0.207166  0.225341  0.212422  0.237278  0.221393   \n",
       "Hits              0.018598  0.206678  0.235606  0.189364  0.238896  0.219384   \n",
       "HmRun             0.113488  0.217464  0.217496  0.492526  0.258347  0.349858   \n",
       "Runs             -0.011975  0.171811  0.191327  0.229701  0.237831  0.202335   \n",
       "RBI               0.129668  0.278126  0.292137  0.442190  0.307226  0.387777   \n",
       "Walks             0.134793  0.269450  0.270795  0.349582  0.332977  0.312697   \n",
       "Years             1.000000  0.915681  0.897844  0.722371  0.876649  0.863809   \n",
       "CAtBat            0.915681  1.000000  0.995057  0.801676  0.982747  0.950730   \n",
       "CHits             0.897844  0.995057  1.000000  0.786652  0.984542  0.946797   \n",
       "CHmRun            0.722371  0.801676  0.786652  1.000000  0.825625  0.927903   \n",
       "CRuns             0.876649  0.982747  0.984542  0.825625  1.000000  0.945677   \n",
       "CRBI              0.863809  0.950730  0.946797  0.927903  0.945677  1.000000   \n",
       "CWalks            0.837524  0.906712  0.890718  0.810878  0.927768  0.889137   \n",
       "PutOuts          -0.020019  0.053393  0.067348  0.093822  0.059087  0.095375   \n",
       "Assists          -0.085118 -0.007897 -0.013144 -0.188886 -0.038895 -0.096559   \n",
       "Errors           -0.156512 -0.070478 -0.068036 -0.165369 -0.094081 -0.115316   \n",
       "Salary            0.400657  0.526135  0.548910  0.524931  0.562678  0.566966   \n",
       "Salaryovermedian  0.465433  0.560822  0.570980  0.465685  0.568051  0.545268   \n",
       "\n",
       "                    CWalks   PutOuts   Assists    Errors    Salary  \\\n",
       "AtBat             0.132926  0.309607  0.342117  0.325577  0.394771   \n",
       "Hits              0.122971  0.299688  0.303975  0.279876  0.438675   \n",
       "HmRun             0.227183  0.250931 -0.161602 -0.009743  0.343028   \n",
       "Runs              0.163700  0.271160  0.179258  0.192609  0.419859   \n",
       "RBI               0.233619  0.312065  0.062902  0.150155  0.449457   \n",
       "Walks             0.429140  0.280855  0.102523  0.081937  0.443867   \n",
       "Years             0.837524 -0.020019 -0.085118 -0.156512  0.400657   \n",
       "CAtBat            0.906712  0.053393 -0.007897 -0.070478  0.526135   \n",
       "CHits             0.890718  0.067348 -0.013144 -0.068036  0.548910   \n",
       "CHmRun            0.810878  0.093822 -0.188886 -0.165369  0.524931   \n",
       "CRuns             0.927768  0.059087 -0.038895 -0.094081  0.562678   \n",
       "CRBI              0.889137  0.095375 -0.096559 -0.115316  0.566966   \n",
       "CWalks            1.000000  0.058160 -0.066243 -0.129936  0.489822   \n",
       "PutOuts           0.058160  1.000000 -0.043390  0.075306  0.300480   \n",
       "Assists          -0.066243 -0.043390  1.000000  0.703505  0.025436   \n",
       "Errors           -0.129936  0.075306  0.703505  1.000000 -0.005401   \n",
       "Salary            0.489822  0.300480  0.025436 -0.005401  1.000000   \n",
       "Salaryovermedian  0.497465  0.199519  0.067333  0.030547  0.743215   \n",
       "\n",
       "                  Salaryovermedian  \n",
       "AtBat                     0.380854  \n",
       "Hits                      0.415270  \n",
       "HmRun                     0.264584  \n",
       "Runs                      0.358009  \n",
       "RBI                       0.371919  \n",
       "Walks                     0.385367  \n",
       "Years                     0.465433  \n",
       "CAtBat                    0.560822  \n",
       "CHits                     0.570980  \n",
       "CHmRun                    0.465685  \n",
       "CRuns                     0.568051  \n",
       "CRBI                      0.545268  \n",
       "CWalks                    0.497465  \n",
       "PutOuts                   0.199519  \n",
       "Assists                   0.067333  \n",
       "Errors                    0.030547  \n",
       "Salary                    0.743215  \n",
       "Salaryovermedian          1.000000  "
      ]
     },
     "execution_count": 106,
     "metadata": {},
     "output_type": "execute_result"
    }
   ],
   "source": [
    "hitters.corr()"
   ]
  },
  {
   "cell_type": "markdown",
   "metadata": {},
   "source": [
    "Wykresami, które dobrze obrazują rozkład zmiennych są:\n",
    "* wykres pudełkowy (boxplot)\n",
    "* histogram\n",
    "\n",
    "Z wykresu pudełkowego jesteśmy w stanie odczytać wartości: minimalną, maksymalną, poszczególne kwartyle oraz występowanie obserwacji odstających.\n",
    "Histogram obrazuje częstość występowania obserwacji w danym przedziale zmiennej."
   ]
  },
  {
   "cell_type": "code",
   "execution_count": 107,
   "metadata": {},
   "outputs": [
    {
     "data": {
      "text/plain": [
       "<matplotlib.axes._subplots.AxesSubplot at 0x2abce652430>"
      ]
     },
     "execution_count": 107,
     "metadata": {},
     "output_type": "execute_result"
    },
    {
     "data": {
      "image/png": "[encoded data removed]",
      "text/plain": [
       "<Figure size 432x288 with 1 Axes>"
      ]
     },
     "metadata": {
      "needs_background": "light"
     },
     "output_type": "display_data"
    }
   ],
   "source": [
    "hitters.boxplot('Salary')"
   ]
  },
  {
   "cell_type": "code",
   "execution_count": 108,
   "metadata": {},
   "outputs": [
    {
     "data": {
      "text/plain": [
       "<matplotlib.axes._subplots.AxesSubplot at 0x2abce6e4e50>"
      ]
     },
     "execution_count": 108,
     "metadata": {},
     "output_type": "execute_result"
    },
    {
     "data": {
      "image/png": "[encoded data removed]",
      "text/plain": [
       "<Figure size 432x288 with 1 Axes>"
      ]
     },
     "metadata": {
      "needs_background": "light"
     },
     "output_type": "display_data"
    }
   ],
   "source": [
    "hitters.boxplot()"
   ]
  },
  {
   "cell_type": "code",
   "execution_count": 109,
   "metadata": {},
   "outputs": [
    {
     "data": {
      "text/plain": [
       "<matplotlib.axes._subplots.AxesSubplot at 0x2abce906a00>"
      ]
     },
     "execution_count": 109,
     "metadata": {},
     "output_type": "execute_result"
    },
    {
     "data": {
      "image/png": "[encoded data removed]",
      "text/plain": [
       "<Figure size 432x288 with 1 Axes>"
      ]
     },
     "metadata": {
      "needs_background": "light"
     },
     "output_type": "display_data"
    }
   ],
   "source": [
    "hitters.boxplot(column='Salary',by='Division')"
   ]
  },
  {
   "cell_type": "code",
   "execution_count": 112,
   "metadata": {},
   "outputs": [
    {
     "data": {
      "text/plain": [
       "<matplotlib.axes._subplots.AxesSubplot at 0x2abcea0a130>"
      ]
     },
     "execution_count": 112,
     "metadata": {},
     "output_type": "execute_result"
    },
    {
     "data": {
      "image/png": "[encoded data removed]",
      "text/plain": [
       "<Figure size 432x288 with 1 Axes>"
      ]
     },
     "metadata": {
      "needs_background": "light"
     },
     "output_type": "display_data"
    }
   ],
   "source": [
    "hitters['Salary'].plot(kind='hist',bins=5)"
   ]
  },
  {
   "cell_type": "code",
   "execution_count": 115,
   "metadata": {},
   "outputs": [
    {
     "data": {
      "text/plain": [
       "Division\n",
       "E    AxesSubplot(0.125,0.125;0.775x0.755)\n",
       "W    AxesSubplot(0.125,0.125;0.775x0.755)\n",
       "Name: Salary, dtype: object"
      ]
     },
     "execution_count": 115,
     "metadata": {},
     "output_type": "execute_result"
    },
    {
     "data": {
      "image/png": "[encoded data removed]",
      "text/plain": [
       "<Figure size 432x288 with 1 Axes>"
      ]
     },
     "metadata": {
      "needs_background": "light"
     },
     "output_type": "display_data"
    }
   ],
   "source": [
    "hitters.groupby('Division').Salary.plot(kind='hist',bins=5,legend=True,alpha=0.4)"
   ]
  },
  {
   "cell_type": "markdown",
   "metadata": {},
   "source": [
    "### Zadanie\n",
    "Analiza danych titanic pod kątem wpływu na przeżycie pasażerów."
   ]
  },
  {
   "cell_type": "code",
   "execution_count": null,
   "metadata": {},
   "outputs": [],
   "source": []
  }
 ],
 "metadata": {
  "kernelspec": {
   "display_name": "Python 3",
   "language": "python",
   "name": "python3"
  },
  "language_info": {
   "codemirror_mode": {
    "name": "ipython",
    "version": 3
   },
   "file_extension": ".py",
   "mimetype": "text/x-python",
   "name": "python",
   "nbconvert_exporter": "python",
   "pygments_lexer": "ipython3",
   "version": "3.8.5"
  }
 },
 "nbformat": 4,
 "nbformat_minor": 4
}
